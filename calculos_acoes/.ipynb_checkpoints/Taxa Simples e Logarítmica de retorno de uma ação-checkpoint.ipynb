{
 "cells": [
  {
   "cell_type": "code",
   "execution_count": 1,
   "metadata": {},
   "outputs": [],
   "source": [
    "import numpy as np\n",
    "from pandas_datareader import data as wb\n",
    "import matplotlib.pyplot as plt"
   ]
  },
  {
   "cell_type": "code",
   "execution_count": 2,
   "metadata": {},
   "outputs": [],
   "source": [
    "PG = wb.DataReader('ITSA4.SA', data_source='yahoo', start='2000-1-1')"
   ]
  },
  {
   "cell_type": "code",
   "execution_count": 3,
   "metadata": {},
   "outputs": [
    {
     "data": {
      "text/html": [
       "<div>\n",
       "<style scoped>\n",
       "    .dataframe tbody tr th:only-of-type {\n",
       "        vertical-align: middle;\n",
       "    }\n",
       "\n",
       "    .dataframe tbody tr th {\n",
       "        vertical-align: top;\n",
       "    }\n",
       "\n",
       "    .dataframe thead th {\n",
       "        text-align: right;\n",
       "    }\n",
       "</style>\n",
       "<table border=\"1\" class=\"dataframe\">\n",
       "  <thead>\n",
       "    <tr style=\"text-align: right;\">\n",
       "      <th></th>\n",
       "      <th>High</th>\n",
       "      <th>Low</th>\n",
       "      <th>Open</th>\n",
       "      <th>Close</th>\n",
       "      <th>Volume</th>\n",
       "      <th>Adj Close</th>\n",
       "    </tr>\n",
       "    <tr>\n",
       "      <th>Date</th>\n",
       "      <th></th>\n",
       "      <th></th>\n",
       "      <th></th>\n",
       "      <th></th>\n",
       "      <th></th>\n",
       "      <th></th>\n",
       "    </tr>\n",
       "  </thead>\n",
       "  <tbody>\n",
       "    <tr>\n",
       "      <th>2000-01-03</th>\n",
       "      <td>1.14360</td>\n",
       "      <td>1.01290</td>\n",
       "      <td>1.01835</td>\n",
       "      <td>1.08370</td>\n",
       "      <td>10285107.0</td>\n",
       "      <td>0.648692</td>\n",
       "    </tr>\n",
       "    <tr>\n",
       "      <th>2000-01-04</th>\n",
       "      <td>1.04558</td>\n",
       "      <td>0.98023</td>\n",
       "      <td>1.04558</td>\n",
       "      <td>0.98023</td>\n",
       "      <td>12071740.0</td>\n",
       "      <td>0.586756</td>\n",
       "    </tr>\n",
       "    <tr>\n",
       "      <th>2000-01-05</th>\n",
       "      <td>1.06192</td>\n",
       "      <td>0.94756</td>\n",
       "      <td>0.98568</td>\n",
       "      <td>1.06192</td>\n",
       "      <td>9163033.0</td>\n",
       "      <td>0.635654</td>\n",
       "    </tr>\n",
       "    <tr>\n",
       "      <th>2000-01-06</th>\n",
       "      <td>1.08370</td>\n",
       "      <td>1.05102</td>\n",
       "      <td>1.05647</td>\n",
       "      <td>1.07825</td>\n",
       "      <td>23085841.0</td>\n",
       "      <td>0.645429</td>\n",
       "    </tr>\n",
       "    <tr>\n",
       "      <th>2000-01-07</th>\n",
       "      <td>1.10548</td>\n",
       "      <td>1.06192</td>\n",
       "      <td>1.08914</td>\n",
       "      <td>1.07281</td>\n",
       "      <td>11216095.0</td>\n",
       "      <td>0.642173</td>\n",
       "    </tr>\n",
       "  </tbody>\n",
       "</table>\n",
       "</div>"
      ],
      "text/plain": [
       "               High      Low     Open    Close      Volume  Adj Close\n",
       "Date                                                                 \n",
       "2000-01-03  1.14360  1.01290  1.01835  1.08370  10285107.0   0.648692\n",
       "2000-01-04  1.04558  0.98023  1.04558  0.98023  12071740.0   0.586756\n",
       "2000-01-05  1.06192  0.94756  0.98568  1.06192   9163033.0   0.635654\n",
       "2000-01-06  1.08370  1.05102  1.05647  1.07825  23085841.0   0.645429\n",
       "2000-01-07  1.10548  1.06192  1.08914  1.07281  11216095.0   0.642173"
      ]
     },
     "execution_count": 3,
     "metadata": {},
     "output_type": "execute_result"
    }
   ],
   "source": [
    "PG.head()"
   ]
  },
  {
   "cell_type": "code",
   "execution_count": 4,
   "metadata": {},
   "outputs": [
    {
     "data": {
      "text/html": [
       "<div>\n",
       "<style scoped>\n",
       "    .dataframe tbody tr th:only-of-type {\n",
       "        vertical-align: middle;\n",
       "    }\n",
       "\n",
       "    .dataframe tbody tr th {\n",
       "        vertical-align: top;\n",
       "    }\n",
       "\n",
       "    .dataframe thead th {\n",
       "        text-align: right;\n",
       "    }\n",
       "</style>\n",
       "<table border=\"1\" class=\"dataframe\">\n",
       "  <thead>\n",
       "    <tr style=\"text-align: right;\">\n",
       "      <th></th>\n",
       "      <th>High</th>\n",
       "      <th>Low</th>\n",
       "      <th>Open</th>\n",
       "      <th>Close</th>\n",
       "      <th>Volume</th>\n",
       "      <th>Adj Close</th>\n",
       "    </tr>\n",
       "    <tr>\n",
       "      <th>Date</th>\n",
       "      <th></th>\n",
       "      <th></th>\n",
       "      <th></th>\n",
       "      <th></th>\n",
       "      <th></th>\n",
       "      <th></th>\n",
       "    </tr>\n",
       "  </thead>\n",
       "  <tbody>\n",
       "    <tr>\n",
       "      <th>2019-08-26</th>\n",
       "      <td>12.06</td>\n",
       "      <td>11.67</td>\n",
       "      <td>12.03</td>\n",
       "      <td>11.83</td>\n",
       "      <td>26136700.0</td>\n",
       "      <td>11.83</td>\n",
       "    </tr>\n",
       "    <tr>\n",
       "      <th>2019-08-27</th>\n",
       "      <td>12.11</td>\n",
       "      <td>11.81</td>\n",
       "      <td>11.88</td>\n",
       "      <td>12.02</td>\n",
       "      <td>43108300.0</td>\n",
       "      <td>12.02</td>\n",
       "    </tr>\n",
       "    <tr>\n",
       "      <th>2019-08-28</th>\n",
       "      <td>12.20</td>\n",
       "      <td>11.84</td>\n",
       "      <td>11.90</td>\n",
       "      <td>12.20</td>\n",
       "      <td>13051600.0</td>\n",
       "      <td>12.20</td>\n",
       "    </tr>\n",
       "    <tr>\n",
       "      <th>2019-08-29</th>\n",
       "      <td>12.34</td>\n",
       "      <td>12.00</td>\n",
       "      <td>12.23</td>\n",
       "      <td>12.26</td>\n",
       "      <td>26062600.0</td>\n",
       "      <td>12.26</td>\n",
       "    </tr>\n",
       "    <tr>\n",
       "      <th>2019-08-30</th>\n",
       "      <td>12.39</td>\n",
       "      <td>12.17</td>\n",
       "      <td>12.37</td>\n",
       "      <td>12.29</td>\n",
       "      <td>22422400.0</td>\n",
       "      <td>12.29</td>\n",
       "    </tr>\n",
       "  </tbody>\n",
       "</table>\n",
       "</div>"
      ],
      "text/plain": [
       "             High    Low   Open  Close      Volume  Adj Close\n",
       "Date                                                         \n",
       "2019-08-26  12.06  11.67  12.03  11.83  26136700.0      11.83\n",
       "2019-08-27  12.11  11.81  11.88  12.02  43108300.0      12.02\n",
       "2019-08-28  12.20  11.84  11.90  12.20  13051600.0      12.20\n",
       "2019-08-29  12.34  12.00  12.23  12.26  26062600.0      12.26\n",
       "2019-08-30  12.39  12.17  12.37  12.29  22422400.0      12.29"
      ]
     },
     "execution_count": 4,
     "metadata": {},
     "output_type": "execute_result"
    }
   ],
   "source": [
    "PG.tail()"
   ]
  },
  {
   "cell_type": "markdown",
   "metadata": {},
   "source": [
    "\\begin{equation*}\n",
    "\\frac{P_1-P_0}{P_0} = \\frac{P_1}{P_0} - 1\n",
    "\\end{equation*}"
   ]
  },
  {
   "cell_type": "code",
   "execution_count": 5,
   "metadata": {
    "scrolled": true
   },
   "outputs": [
    {
     "name": "stdout",
     "output_type": "stream",
     "text": [
      "Date\n",
      "2000-01-03         NaN\n",
      "2000-01-04   -0.095478\n",
      "2000-01-05    0.083338\n",
      "2000-01-06    0.015378\n",
      "2000-01-07   -0.005045\n",
      "2000-01-10    0.035533\n",
      "2000-01-11   -0.004906\n",
      "2000-01-12   -0.019702\n",
      "2000-01-13   -0.020098\n",
      "2000-01-14    0.005123\n",
      "2000-01-17    0.035714\n",
      "2000-01-18   -0.024632\n",
      "2000-01-19   -0.010100\n",
      "2000-01-20   -0.020405\n",
      "2000-01-21   -0.020830\n",
      "2000-01-24   -0.021284\n",
      "2000-01-25    0.102424\n",
      "2000-01-26   -0.097833\n",
      "2000-01-27   -0.010928\n",
      "2000-01-28   -0.027626\n",
      "2000-01-31   -0.034097\n",
      "2000-02-01    0.023537\n",
      "2000-02-02    0.000000\n",
      "2000-02-03   -0.005751\n",
      "2000-02-04    0.011559\n",
      "2000-02-07    0.062854\n",
      "2000-02-08   -0.005371\n",
      "2000-02-09   -0.027028\n",
      "2000-02-10   -0.005560\n",
      "2000-02-11   -0.027924\n",
      "                ...   \n",
      "2019-07-22    0.015326\n",
      "2019-07-23    0.005283\n",
      "2019-07-24   -0.001501\n",
      "2019-07-25   -0.030075\n",
      "2019-07-26    0.008527\n",
      "2019-07-29   -0.001537\n",
      "2019-07-30   -0.016166\n",
      "2019-07-31   -0.024257\n",
      "2019-08-01    0.006415\n",
      "2019-08-02   -0.007171\n",
      "2019-08-05   -0.016051\n",
      "2019-08-06    0.032626\n",
      "2019-08-07    0.026066\n",
      "2019-08-08    0.010008\n",
      "2019-08-09   -0.004573\n",
      "2019-08-12   -0.035222\n",
      "2019-08-13    0.025397\n",
      "2019-08-14   -0.013158\n",
      "2019-08-15    0.003922\n",
      "2019-08-16    0.004053\n",
      "2019-08-19   -0.017586\n",
      "2019-08-20   -0.015460\n",
      "2019-08-21    0.012397\n",
      "2019-08-22   -0.016327\n",
      "2019-08-23   -0.014108\n",
      "2019-08-26   -0.004209\n",
      "2019-08-27    0.016061\n",
      "2019-08-28    0.014975\n",
      "2019-08-29    0.004918\n",
      "2019-08-30    0.002447\n",
      "Name: simple_return, Length: 4865, dtype: float64\n"
     ]
    }
   ],
   "source": [
    "PG['simple_return'] = (PG['Adj Close'] / PG['Adj Close'].shift(1)) - 1\n",
    "print(PG['simple_return'])"
   ]
  },
  {
   "cell_type": "code",
   "execution_count": 6,
   "metadata": {},
   "outputs": [
    {
     "data": {
      "image/png": "[encoded data removed]",
      "text/plain": [
       "<Figure size 576x360 with 1 Axes>"
      ]
     },
     "metadata": {
      "needs_background": "light"
     },
     "output_type": "display_data"
    }
   ],
   "source": [
    "PG['simple_return'].plot(figsize=(8,5))\n",
    "plt.show()"
   ]
  },
  {
   "cell_type": "code",
   "execution_count": 7,
   "metadata": {},
   "outputs": [
    {
     "data": {
      "text/plain": [
       "0.0010407790376685219"
      ]
     },
     "execution_count": 7,
     "metadata": {},
     "output_type": "execute_result"
    }
   ],
   "source": [
    "#taxa de retorno médio\n",
    "avg_returns_d = PG['simple_return'].mean()\n",
    "avg_returns_d"
   ]
  },
  {
   "cell_type": "code",
   "execution_count": 8,
   "metadata": {},
   "outputs": [
    {
     "data": {
      "text/plain": [
       "0.2601947594171305"
      ]
     },
     "execution_count": 8,
     "metadata": {},
     "output_type": "execute_result"
    }
   ],
   "source": [
    "#o número de dias de negociação não são 365 dias por ano, portanto deve ser utilizado 250 em média\n",
    "#taxa de retorno média diária, multiplicado por 250 dias\n",
    "avg_returns_a = PG['simple_return'].mean()*250 #aproximação média diária por ano\n",
    "avg_returns_a "
   ]
  },
  {
   "cell_type": "code",
   "execution_count": 9,
   "metadata": {},
   "outputs": [
    {
     "name": "stdout",
     "output_type": "stream",
     "text": [
      "26.019 %\n"
     ]
    }
   ],
   "source": [
    "print(str(round(avg_returns_a, 5) * 100) + ' %')"
   ]
  },
  {
   "cell_type": "markdown",
   "metadata": {},
   "source": [
    "# Log Return"
   ]
  },
  {
   "cell_type": "markdown",
   "metadata": {},
   "source": [
    "\\begin{equation*}\n",
    "\\ln(\\frac{P_t}{P_{t-1}})\n",
    "\\end{equation*}"
   ]
  },
  {
   "cell_type": "code",
   "execution_count": 10,
   "metadata": {},
   "outputs": [
    {
     "data": {
      "text/html": [
       "<div>\n",
       "<style scoped>\n",
       "    .dataframe tbody tr th:only-of-type {\n",
       "        vertical-align: middle;\n",
       "    }\n",
       "\n",
       "    .dataframe tbody tr th {\n",
       "        vertical-align: top;\n",
       "    }\n",
       "\n",
       "    .dataframe thead th {\n",
       "        text-align: right;\n",
       "    }\n",
       "</style>\n",
       "<table border=\"1\" class=\"dataframe\">\n",
       "  <thead>\n",
       "    <tr style=\"text-align: right;\">\n",
       "      <th></th>\n",
       "      <th>High</th>\n",
       "      <th>Low</th>\n",
       "      <th>Open</th>\n",
       "      <th>Close</th>\n",
       "      <th>Volume</th>\n",
       "      <th>Adj Close</th>\n",
       "      <th>simple_return</th>\n",
       "    </tr>\n",
       "    <tr>\n",
       "      <th>Date</th>\n",
       "      <th></th>\n",
       "      <th></th>\n",
       "      <th></th>\n",
       "      <th></th>\n",
       "      <th></th>\n",
       "      <th></th>\n",
       "      <th></th>\n",
       "    </tr>\n",
       "  </thead>\n",
       "  <tbody>\n",
       "    <tr>\n",
       "      <th>2000-01-03</th>\n",
       "      <td>1.14360</td>\n",
       "      <td>1.01290</td>\n",
       "      <td>1.01835</td>\n",
       "      <td>1.08370</td>\n",
       "      <td>10285107.0</td>\n",
       "      <td>0.648692</td>\n",
       "      <td>NaN</td>\n",
       "    </tr>\n",
       "    <tr>\n",
       "      <th>2000-01-04</th>\n",
       "      <td>1.04558</td>\n",
       "      <td>0.98023</td>\n",
       "      <td>1.04558</td>\n",
       "      <td>0.98023</td>\n",
       "      <td>12071740.0</td>\n",
       "      <td>0.586756</td>\n",
       "      <td>-0.095478</td>\n",
       "    </tr>\n",
       "    <tr>\n",
       "      <th>2000-01-05</th>\n",
       "      <td>1.06192</td>\n",
       "      <td>0.94756</td>\n",
       "      <td>0.98568</td>\n",
       "      <td>1.06192</td>\n",
       "      <td>9163033.0</td>\n",
       "      <td>0.635654</td>\n",
       "      <td>0.083338</td>\n",
       "    </tr>\n",
       "    <tr>\n",
       "      <th>2000-01-06</th>\n",
       "      <td>1.08370</td>\n",
       "      <td>1.05102</td>\n",
       "      <td>1.05647</td>\n",
       "      <td>1.07825</td>\n",
       "      <td>23085841.0</td>\n",
       "      <td>0.645429</td>\n",
       "      <td>0.015378</td>\n",
       "    </tr>\n",
       "    <tr>\n",
       "      <th>2000-01-07</th>\n",
       "      <td>1.10548</td>\n",
       "      <td>1.06192</td>\n",
       "      <td>1.08914</td>\n",
       "      <td>1.07281</td>\n",
       "      <td>11216095.0</td>\n",
       "      <td>0.642173</td>\n",
       "      <td>-0.005045</td>\n",
       "    </tr>\n",
       "  </tbody>\n",
       "</table>\n",
       "</div>"
      ],
      "text/plain": [
       "               High      Low     Open    Close      Volume  Adj Close  \\\n",
       "Date                                                                    \n",
       "2000-01-03  1.14360  1.01290  1.01835  1.08370  10285107.0   0.648692   \n",
       "2000-01-04  1.04558  0.98023  1.04558  0.98023  12071740.0   0.586756   \n",
       "2000-01-05  1.06192  0.94756  0.98568  1.06192   9163033.0   0.635654   \n",
       "2000-01-06  1.08370  1.05102  1.05647  1.07825  23085841.0   0.645429   \n",
       "2000-01-07  1.10548  1.06192  1.08914  1.07281  11216095.0   0.642173   \n",
       "\n",
       "            simple_return  \n",
       "Date                       \n",
       "2000-01-03            NaN  \n",
       "2000-01-04      -0.095478  \n",
       "2000-01-05       0.083338  \n",
       "2000-01-06       0.015378  \n",
       "2000-01-07      -0.005045  "
      ]
     },
     "execution_count": 10,
     "metadata": {},
     "output_type": "execute_result"
    }
   ],
   "source": [
    "PG.head()"
   ]
  },
  {
   "cell_type": "code",
   "execution_count": 11,
   "metadata": {},
   "outputs": [],
   "source": [
    "#NumPy oferece a possibilidade de computação vetorizada\n",
    "\n",
    "#vetorização\n",
    "#É a capacidade de organizar vários tipos de tarefas de processamento de dados como expressões de um array\n",
    "#vetorização <-> programação usando matriz"
   ]
  },
  {
   "cell_type": "code",
   "execution_count": 12,
   "metadata": {},
   "outputs": [
    {
     "data": {
      "text/plain": [
       "0.09962984094884134"
      ]
     },
     "execution_count": 12,
     "metadata": {},
     "output_type": "execute_result"
    }
   ],
   "source": [
    "log_teste = np.log(116/105)\n",
    "log_teste"
   ]
  },
  {
   "cell_type": "code",
   "execution_count": 13,
   "metadata": {},
   "outputs": [
    {
     "name": "stdout",
     "output_type": "stream",
     "text": [
      "Date\n",
      "2000-01-03         NaN\n",
      "2000-01-04   -0.100349\n",
      "2000-01-05    0.080047\n",
      "2000-01-06    0.015261\n",
      "2000-01-07   -0.005058\n",
      "2000-01-10    0.034916\n",
      "2000-01-11   -0.004918\n",
      "2000-01-12   -0.019899\n",
      "2000-01-13   -0.020302\n",
      "2000-01-14    0.005110\n",
      "2000-01-17    0.035091\n",
      "2000-01-18   -0.024940\n",
      "2000-01-19   -0.010151\n",
      "2000-01-20   -0.020617\n",
      "2000-01-21   -0.021050\n",
      "2000-01-24   -0.021513\n",
      "2000-01-25    0.097512\n",
      "2000-01-26   -0.102955\n",
      "2000-01-27   -0.010988\n",
      "2000-01-28   -0.028014\n",
      "2000-01-31   -0.034692\n",
      "2000-02-01    0.023264\n",
      "2000-02-02    0.000000\n",
      "2000-02-03   -0.005768\n",
      "2000-02-04    0.011493\n",
      "2000-02-07    0.060958\n",
      "2000-02-08   -0.005385\n",
      "2000-02-09   -0.027400\n",
      "2000-02-10   -0.005575\n",
      "2000-02-11   -0.028322\n",
      "                ...   \n",
      "2019-07-22    0.015209\n",
      "2019-07-23    0.005269\n",
      "2019-07-24   -0.001503\n",
      "2019-07-25   -0.030537\n",
      "2019-07-26    0.008491\n",
      "2019-07-29   -0.001538\n",
      "2019-07-30   -0.016298\n",
      "2019-07-31   -0.024556\n",
      "2019-08-01    0.006395\n",
      "2019-08-02   -0.007197\n",
      "2019-08-05   -0.016182\n",
      "2019-08-06    0.032105\n",
      "2019-08-07    0.025732\n",
      "2019-08-08    0.009958\n",
      "2019-08-09   -0.004584\n",
      "2019-08-12   -0.035857\n",
      "2019-08-13    0.025080\n",
      "2019-08-14   -0.013245\n",
      "2019-08-15    0.003914\n",
      "2019-08-16    0.004045\n",
      "2019-08-19   -0.017742\n",
      "2019-08-20   -0.015580\n",
      "2019-08-21    0.012320\n",
      "2019-08-22   -0.016461\n",
      "2019-08-23   -0.014208\n",
      "2019-08-26   -0.004218\n",
      "2019-08-27    0.015933\n",
      "2019-08-28    0.014864\n",
      "2019-08-29    0.004906\n",
      "2019-08-30    0.002444\n",
      "Name: log_return, Length: 4865, dtype: float64\n"
     ]
    }
   ],
   "source": [
    "PG['log_return'] = np.log(PG['Adj Close'] / PG['Adj Close'].shift(1)) #shift = dia anterior\n",
    "print(PG['log_return'])"
   ]
  },
  {
   "cell_type": "code",
   "execution_count": 14,
   "metadata": {},
   "outputs": [
    {
     "data": {
      "text/plain": [
       "<matplotlib.axes._subplots.AxesSubplot at 0x7f87298a7d68>"
      ]
     },
     "execution_count": 14,
     "metadata": {},
     "output_type": "execute_result"
    },
    {
     "data": {
      "image/png": "[encoded data removed]",
      "text/plain": [
       "<Figure size 576x360 with 1 Axes>"
      ]
     },
     "metadata": {
      "needs_background": "light"
     },
     "output_type": "display_data"
    }
   ],
   "source": [
    "PG['log_return'].plot(figsize=(8,5))"
   ]
  },
  {
   "cell_type": "code",
   "execution_count": 15,
   "metadata": {},
   "outputs": [
    {
     "data": {
      "text/plain": [
       "0.0006047664244456585"
      ]
     },
     "execution_count": 15,
     "metadata": {},
     "output_type": "execute_result"
    }
   ],
   "source": [
    "log_return_d = PG['log_return'].mean()\n",
    "log_return_d"
   ]
  },
  {
   "cell_type": "code",
   "execution_count": 16,
   "metadata": {},
   "outputs": [
    {
     "data": {
      "text/plain": [
       "0.15119160611141463"
      ]
     },
     "execution_count": 16,
     "metadata": {},
     "output_type": "execute_result"
    }
   ],
   "source": [
    "log_return_a = PG['log_return'].mean() * 250\n",
    "log_return_a"
   ]
  },
  {
   "cell_type": "code",
   "execution_count": 17,
   "metadata": {},
   "outputs": [
    {
     "name": "stdout",
     "output_type": "stream",
     "text": [
      "15.119%\n"
     ]
    }
   ],
   "source": [
    "print(str(round(log_return_a, 5) * 100) + '%')"
   ]
  },
  {
   "cell_type": "code",
   "execution_count": null,
   "metadata": {},
   "outputs": [],
   "source": []
  }
 ],
 "metadata": {
  "kernelspec": {
   "display_name": "Python 3",
   "language": "python",
   "name": "python3"
  },
  "language_info": {
   "codemirror_mode": {
    "name": "ipython",
    "version": 3
   },
   "file_extension": ".py",
   "mimetype": "text/x-python",
   "name": "python",
   "nbconvert_exporter": "python",
   "pygments_lexer": "ipython3",
   "version": "3.7.3"
  }
 },
 "nbformat": 4,
 "nbformat_minor": 2
}
