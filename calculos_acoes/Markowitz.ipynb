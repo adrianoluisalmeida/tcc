{
 "cells": [
  {
   "cell_type": "code",
   "execution_count": 54,
   "metadata": {},
   "outputs": [],
   "source": [
    "import numpy as np\n",
    "import pandas as pd\n",
    "from pandas_datareader import data as wb\n",
    "import matplotlib.pyplot as plt\n",
    "%matplotlib inline"
   ]
  },
  {
   "cell_type": "code",
   "execution_count": 119,
   "metadata": {},
   "outputs": [],
   "source": [
    "#assets = ['ITSA4.SA', '^BVSP']\n",
    "#assets = ['POMO4.SA', '^GSPC']\n",
    "assets = ['UNIP6.SA', '^GSPC']\n",
    "pf_data = pd.DataFrame()\n",
    "\n",
    "for a in assets:\n",
    "    pf_data[a] = wb.DataReader(a, data_source = 'yahoo', start = '2010-1-1')['Adj Close']"
   ]
  },
  {
   "cell_type": "code",
   "execution_count": 120,
   "metadata": {},
   "outputs": [
    {
     "data": {
      "text/html": [
       "<div>\n",
       "<style scoped>\n",
       "    .dataframe tbody tr th:only-of-type {\n",
       "        vertical-align: middle;\n",
       "    }\n",
       "\n",
       "    .dataframe tbody tr th {\n",
       "        vertical-align: top;\n",
       "    }\n",
       "\n",
       "    .dataframe thead th {\n",
       "        text-align: right;\n",
       "    }\n",
       "</style>\n",
       "<table border=\"1\" class=\"dataframe\">\n",
       "  <thead>\n",
       "    <tr style=\"text-align: right;\">\n",
       "      <th></th>\n",
       "      <th>UNIP6.SA</th>\n",
       "      <th>^GSPC</th>\n",
       "    </tr>\n",
       "    <tr>\n",
       "      <th>Date</th>\n",
       "      <th></th>\n",
       "      <th></th>\n",
       "    </tr>\n",
       "  </thead>\n",
       "  <tbody>\n",
       "    <tr>\n",
       "      <th>2019-09-02</th>\n",
       "      <td>29.500000</td>\n",
       "      <td>NaN</td>\n",
       "    </tr>\n",
       "    <tr>\n",
       "      <th>2019-09-03</th>\n",
       "      <td>29.570000</td>\n",
       "      <td>2906.270020</td>\n",
       "    </tr>\n",
       "    <tr>\n",
       "      <th>2019-09-04</th>\n",
       "      <td>31.110001</td>\n",
       "      <td>2937.780029</td>\n",
       "    </tr>\n",
       "    <tr>\n",
       "      <th>2019-09-05</th>\n",
       "      <td>30.910000</td>\n",
       "      <td>2976.000000</td>\n",
       "    </tr>\n",
       "    <tr>\n",
       "      <th>2019-09-06</th>\n",
       "      <td>31.290001</td>\n",
       "      <td>2978.709961</td>\n",
       "    </tr>\n",
       "  </tbody>\n",
       "</table>\n",
       "</div>"
      ],
      "text/plain": [
       "             UNIP6.SA        ^GSPC\n",
       "Date                              \n",
       "2019-09-02  29.500000          NaN\n",
       "2019-09-03  29.570000  2906.270020\n",
       "2019-09-04  31.110001  2937.780029\n",
       "2019-09-05  30.910000  2976.000000\n",
       "2019-09-06  31.290001  2978.709961"
      ]
     },
     "execution_count": 120,
     "metadata": {},
     "output_type": "execute_result"
    }
   ],
   "source": [
    "pf_data.tail()"
   ]
  },
  {
   "cell_type": "code",
   "execution_count": 121,
   "metadata": {},
   "outputs": [
    {
     "data": {
      "text/plain": [
       "<matplotlib.axes._subplots.AxesSubplot at 0x7f1585ebd4e0>"
      ]
     },
     "execution_count": 121,
     "metadata": {},
     "output_type": "execute_result"
    },
    {
     "data": {
      "image/png": "[encoded data removed]",
      "text/plain": [
       "<Figure size 720x360 with 1 Axes>"
      ]
     },
     "metadata": {
      "needs_background": "light"
     },
     "output_type": "display_data"
    }
   ],
   "source": [
    "(pf_data / pf_data.iloc[0] * 100).plot(figsize=(10,5))"
   ]
  },
  {
   "cell_type": "markdown",
   "metadata": {},
   "source": [
    "# Obj: Encontrar uma fronteira eficiente"
   ]
  },
  {
   "cell_type": "code",
   "execution_count": 122,
   "metadata": {},
   "outputs": [],
   "source": [
    "log_returns = np.log(pf_data / pf_data.shift(1)) #taxa de retorno log."
   ]
  },
  {
   "cell_type": "code",
   "execution_count": 123,
   "metadata": {},
   "outputs": [
    {
     "data": {
      "text/plain": [
       "UNIP6.SA    0.225161\n",
       "^GSPC       0.107574\n",
       "dtype: float64"
      ]
     },
     "execution_count": 123,
     "metadata": {},
     "output_type": "execute_result"
    }
   ],
   "source": [
    "log_returns.mean() * 250 #médias"
   ]
  },
  {
   "cell_type": "code",
   "execution_count": 124,
   "metadata": {},
   "outputs": [
    {
     "data": {
      "text/html": [
       "<div>\n",
       "<style scoped>\n",
       "    .dataframe tbody tr th:only-of-type {\n",
       "        vertical-align: middle;\n",
       "    }\n",
       "\n",
       "    .dataframe tbody tr th {\n",
       "        vertical-align: top;\n",
       "    }\n",
       "\n",
       "    .dataframe thead th {\n",
       "        text-align: right;\n",
       "    }\n",
       "</style>\n",
       "<table border=\"1\" class=\"dataframe\">\n",
       "  <thead>\n",
       "    <tr style=\"text-align: right;\">\n",
       "      <th></th>\n",
       "      <th>UNIP6.SA</th>\n",
       "      <th>^GSPC</th>\n",
       "    </tr>\n",
       "  </thead>\n",
       "  <tbody>\n",
       "    <tr>\n",
       "      <th>UNIP6.SA</th>\n",
       "      <td>0.157212</td>\n",
       "      <td>0.010500</td>\n",
       "    </tr>\n",
       "    <tr>\n",
       "      <th>^GSPC</th>\n",
       "      <td>0.010500</td>\n",
       "      <td>0.023005</td>\n",
       "    </tr>\n",
       "  </tbody>\n",
       "</table>\n",
       "</div>"
      ],
      "text/plain": [
       "          UNIP6.SA     ^GSPC\n",
       "UNIP6.SA  0.157212  0.010500\n",
       "^GSPC     0.010500  0.023005"
      ]
     },
     "execution_count": 124,
     "metadata": {},
     "output_type": "execute_result"
    }
   ],
   "source": [
    "log_returns.cov() * 250 #covariância período anual"
   ]
  },
  {
   "cell_type": "code",
   "execution_count": 125,
   "metadata": {},
   "outputs": [
    {
     "data": {
      "text/html": [
       "<div>\n",
       "<style scoped>\n",
       "    .dataframe tbody tr th:only-of-type {\n",
       "        vertical-align: middle;\n",
       "    }\n",
       "\n",
       "    .dataframe tbody tr th {\n",
       "        vertical-align: top;\n",
       "    }\n",
       "\n",
       "    .dataframe thead th {\n",
       "        text-align: right;\n",
       "    }\n",
       "</style>\n",
       "<table border=\"1\" class=\"dataframe\">\n",
       "  <thead>\n",
       "    <tr style=\"text-align: right;\">\n",
       "      <th></th>\n",
       "      <th>UNIP6.SA</th>\n",
       "      <th>^GSPC</th>\n",
       "    </tr>\n",
       "  </thead>\n",
       "  <tbody>\n",
       "    <tr>\n",
       "      <th>UNIP6.SA</th>\n",
       "      <td>1.000000</td>\n",
       "      <td>0.174487</td>\n",
       "    </tr>\n",
       "    <tr>\n",
       "      <th>^GSPC</th>\n",
       "      <td>0.174487</td>\n",
       "      <td>1.000000</td>\n",
       "    </tr>\n",
       "  </tbody>\n",
       "</table>\n",
       "</div>"
      ],
      "text/plain": [
       "          UNIP6.SA     ^GSPC\n",
       "UNIP6.SA  1.000000  0.174487\n",
       "^GSPC     0.174487  1.000000"
      ]
     },
     "execution_count": 125,
     "metadata": {},
     "output_type": "execute_result"
    }
   ],
   "source": [
    "log_returns.corr() #correlação"
   ]
  },
  {
   "cell_type": "code",
   "execution_count": 126,
   "metadata": {},
   "outputs": [],
   "source": [
    "num_assets = len(assets) #contar o número de ativos"
   ]
  },
  {
   "cell_type": "code",
   "execution_count": 127,
   "metadata": {},
   "outputs": [
    {
     "data": {
      "text/plain": [
       "2"
      ]
     },
     "execution_count": 127,
     "metadata": {},
     "output_type": "execute_result"
    }
   ],
   "source": [
    "num_assets"
   ]
  },
  {
   "cell_type": "code",
   "execution_count": 128,
   "metadata": {},
   "outputs": [
    {
     "data": {
      "text/plain": [
       "array([0.49858029, 0.50141971])"
      ]
     },
     "execution_count": 128,
     "metadata": {},
     "output_type": "execute_result"
    }
   ],
   "source": [
    "#peso da carteira aleatórios, sempre somando 1 no final \n",
    "\n",
    "weights = np.random.random(num_assets)\n",
    "weights /= np.sum(weights)\n",
    "weights"
   ]
  },
  {
   "cell_type": "code",
   "execution_count": 129,
   "metadata": {},
   "outputs": [
    {
     "data": {
      "text/plain": [
       "1.0"
      ]
     },
     "execution_count": 129,
     "metadata": {},
     "output_type": "execute_result"
    }
   ],
   "source": [
    "weights[0] + weights[1]"
   ]
  },
  {
   "cell_type": "markdown",
   "metadata": {},
   "source": [
    "# Retorno esperado de um portfólio"
   ]
  },
  {
   "cell_type": "code",
   "execution_count": 130,
   "metadata": {},
   "outputs": [
    {
     "data": {
      "text/plain": [
       "0.16620046193196256"
      ]
     },
     "execution_count": 130,
     "metadata": {},
     "output_type": "execute_result"
    }
   ],
   "source": [
    "np.sum(weights * log_returns.mean()) * 250 #soma do produto da média dos retornos log. anualizados pelos respectivos pesos."
   ]
  },
  {
   "cell_type": "markdown",
   "metadata": {},
   "source": [
    "#  Variância esperada do portfólio"
   ]
  },
  {
   "cell_type": "code",
   "execution_count": 131,
   "metadata": {},
   "outputs": [
    {
     "data": {
      "text/plain": [
       "0.05011417761166376"
      ]
     },
     "execution_count": 131,
     "metadata": {},
     "output_type": "execute_result"
    }
   ],
   "source": [
    "np.dot(weights.T, np.dot(log_returns.cov() * 250, weights))"
   ]
  },
  {
   "cell_type": "markdown",
   "metadata": {},
   "source": [
    "# Volatidade esperada do portfólio"
   ]
  },
  {
   "cell_type": "code",
   "execution_count": 132,
   "metadata": {},
   "outputs": [
    {
     "data": {
      "text/plain": [
       "0.22386196106454476"
      ]
     },
     "execution_count": 132,
     "metadata": {},
     "output_type": "execute_result"
    }
   ],
   "source": [
    "np.sqrt(np.dot(weights.T, np.dot(log_returns.cov() * 250, weights)))"
   ]
  },
  {
   "cell_type": "code",
   "execution_count": 133,
   "metadata": {},
   "outputs": [],
   "source": [
    "#1000 simulações de mínima variância serão plotadas \n",
    "#não são 1000 investimentos diferentes, será considerado 1000 combinações dos mesmos ativos ITSA E BOVESPA"
   ]
  },
  {
   "cell_type": "code",
   "execution_count": 134,
   "metadata": {},
   "outputs": [],
   "source": [
    "pfolio_returns = []\n",
    "pfolio_volatilities = []"
   ]
  },
  {
   "cell_type": "code",
   "execution_count": 135,
   "metadata": {},
   "outputs": [
    {
     "data": {
      "text/plain": [
       "(array([0.12368384, 0.16654033, 0.15759568, 0.21859519, 0.13218548,\n",
       "        0.17084708, 0.11994972, 0.18783944, 0.1963426 , 0.15911571,\n",
       "        0.18269726, 0.15096821, 0.16135496, 0.1701946 , 0.20760136,\n",
       "        0.15867111, 0.17097534, 0.14679025, 0.12416796, 0.13332504,\n",
       "        0.14076697, 0.1587352 , 0.15158923, 0.15900758, 0.16252421,\n",
       "        0.19215616, 0.18814863, 0.16069862, 0.1517357 , 0.11818818,\n",
       "        0.20569614, 0.1884022 , 0.16305197, 0.12270047, 0.16824564,\n",
       "        0.1688413 , 0.1698845 , 0.14992473, 0.15870701, 0.18768237,\n",
       "        0.14803218, 0.17429779, 0.17005033, 0.12736469, 0.16062989,\n",
       "        0.15618627, 0.12214251, 0.1630194 , 0.20609934, 0.17697269,\n",
       "        0.1757531 , 0.2205643 , 0.20589673, 0.22287156, 0.15977278,\n",
       "        0.16823606, 0.15402773, 0.16753308, 0.15791072, 0.15312996,\n",
       "        0.16630686, 0.19925302, 0.19022078, 0.17402112, 0.11764258,\n",
       "        0.21493062, 0.19691452, 0.17674413, 0.16827239, 0.16469857,\n",
       "        0.21834468, 0.19084624, 0.14065265, 0.14841995, 0.15772486,\n",
       "        0.18266022, 0.14706999, 0.17736526, 0.16573927, 0.1404562 ,\n",
       "        0.22205628, 0.18185702, 0.22359012, 0.11828768, 0.21421312,\n",
       "        0.15621653, 0.1748997 , 0.17294271, 0.16841304, 0.2172019 ,\n",
       "        0.16903224, 0.18973619, 0.19100668, 0.19973198, 0.17884439,\n",
       "        0.1506635 , 0.12388031, 0.16904503, 0.18719614, 0.15096305,\n",
       "        0.1677549 , 0.15753408, 0.1725454 , 0.16344838, 0.17381673,\n",
       "        0.14517574, 0.18509005, 0.12610849, 0.18416779, 0.15353567,\n",
       "        0.2069911 , 0.1725954 , 0.18078777, 0.18558331, 0.17411649,\n",
       "        0.13296666, 0.21014571, 0.1719032 , 0.16634052, 0.17727437,\n",
       "        0.13851063, 0.17590804, 0.20964527, 0.14314952, 0.13782732,\n",
       "        0.18215316, 0.14692709, 0.16961141, 0.15787429, 0.15487565,\n",
       "        0.18015121, 0.15397154, 0.14956005, 0.19297849, 0.20453662,\n",
       "        0.12257575, 0.16227369, 0.14357031, 0.15788833, 0.13100967,\n",
       "        0.16239247, 0.18235478, 0.15027917, 0.15987161, 0.18917659,\n",
       "        0.15295524, 0.17909297, 0.14803288, 0.12002231, 0.17444648,\n",
       "        0.18862434, 0.19337644, 0.175617  , 0.15863422, 0.11362277,\n",
       "        0.19310297, 0.17244193, 0.14675736, 0.18806399, 0.16197035,\n",
       "        0.14425776, 0.20646124, 0.15565492, 0.1964516 , 0.19458185,\n",
       "        0.10866417, 0.18810808, 0.17057922, 0.16896707, 0.2026473 ,\n",
       "        0.16516091, 0.14193175, 0.15754197, 0.16336173, 0.21168776,\n",
       "        0.17245667, 0.16170123, 0.19921237, 0.13344425, 0.1668706 ,\n",
       "        0.20310712, 0.15928757, 0.16197609, 0.14945786, 0.14663583,\n",
       "        0.18837404, 0.11631333, 0.15204962, 0.12935138, 0.19352321,\n",
       "        0.12725948, 0.20116436, 0.2170223 , 0.16603937, 0.16797628,\n",
       "        0.20367083, 0.12852978, 0.13511449, 0.12185226, 0.11765852,\n",
       "        0.16159111, 0.16614716, 0.14602465, 0.14189016, 0.12869282,\n",
       "        0.21778785, 0.19031555, 0.15600797, 0.16327764, 0.16626176,\n",
       "        0.19544363, 0.18439481, 0.17680036, 0.1151675 , 0.16360753,\n",
       "        0.21471042, 0.15206941, 0.20413073, 0.18104028, 0.1336724 ,\n",
       "        0.18063426, 0.16308455, 0.16581073, 0.1292332 , 0.17136337,\n",
       "        0.16454686, 0.15645731, 0.20846439, 0.1344844 , 0.20781935,\n",
       "        0.1663154 , 0.17523488, 0.1619703 , 0.13028763, 0.16787189,\n",
       "        0.16185955, 0.21322112, 0.17408321, 0.18498846, 0.18118173,\n",
       "        0.12292732, 0.18592794, 0.16440133, 0.11994653, 0.17165303,\n",
       "        0.20760379, 0.11453483, 0.12592077, 0.11798766, 0.18872583,\n",
       "        0.19733329, 0.14125306, 0.16115523, 0.16511192, 0.1388158 ,\n",
       "        0.16016391, 0.16097642, 0.18249274, 0.1606469 , 0.15896863,\n",
       "        0.11002333, 0.15573286, 0.15373039, 0.12373502, 0.15813742,\n",
       "        0.1537446 , 0.21132967, 0.13506991, 0.14153256, 0.18455863,\n",
       "        0.14953624, 0.13014052, 0.20420759, 0.17202847, 0.14769446,\n",
       "        0.21039405, 0.19041604, 0.20033928, 0.1446698 , 0.16700221,\n",
       "        0.15439619, 0.14141659, 0.15280812, 0.13578038, 0.15125487,\n",
       "        0.15649264, 0.15805642, 0.17947384, 0.15476199, 0.20204441,\n",
       "        0.16493043, 0.1846629 , 0.15178189, 0.17123318, 0.16688613,\n",
       "        0.17413504, 0.17321058, 0.20032559, 0.13044049, 0.16579155,\n",
       "        0.11598386, 0.12672917, 0.14855464, 0.16506611, 0.12195262,\n",
       "        0.17309802, 0.17551733, 0.16021533, 0.22064685, 0.18886864,\n",
       "        0.16695797, 0.19506764, 0.18375804, 0.19346407, 0.17813568,\n",
       "        0.21028719, 0.18772045, 0.18399711, 0.16965292, 0.18430079,\n",
       "        0.17174668, 0.16405672, 0.20609071, 0.18294207, 0.15400102,\n",
       "        0.11265946, 0.1525957 , 0.16290831, 0.196353  , 0.17044332,\n",
       "        0.18261514, 0.16469536, 0.17390165, 0.14331404, 0.18175342,\n",
       "        0.17105906, 0.16458742, 0.2064321 , 0.13883432, 0.12314959,\n",
       "        0.151439  , 0.16362348, 0.18300083, 0.17700403, 0.15226456,\n",
       "        0.18664952, 0.18171649, 0.15271589, 0.17746452, 0.22494718,\n",
       "        0.10988668, 0.14666704, 0.19475108, 0.15642962, 0.20301133,\n",
       "        0.12329962, 0.14322009, 0.13667825, 0.16559209, 0.11044402,\n",
       "        0.19577845, 0.11696281, 0.14644099, 0.1107592 , 0.18700693,\n",
       "        0.14883318, 0.15768618, 0.14777849, 0.13215779, 0.12865895,\n",
       "        0.14864824, 0.16347232, 0.16085322, 0.13523907, 0.16119422,\n",
       "        0.123308  , 0.20278203, 0.12435534, 0.18905146, 0.14934268,\n",
       "        0.20240402, 0.13076617, 0.18037647, 0.16628617, 0.16148629,\n",
       "        0.19347584, 0.17007471, 0.16979206, 0.21317235, 0.17207805,\n",
       "        0.13183789, 0.10996713, 0.1925802 , 0.18979307, 0.13006018,\n",
       "        0.13629616, 0.12072329, 0.13149037, 0.12643788, 0.1643274 ,\n",
       "        0.17443366, 0.14680776, 0.1142583 , 0.2016629 , 0.16924654,\n",
       "        0.1695383 , 0.17424855, 0.16874559, 0.21082492, 0.12529754,\n",
       "        0.16877905, 0.16660696, 0.11500732, 0.20570525, 0.15049324,\n",
       "        0.11347213, 0.15397391, 0.12251261, 0.15465183, 0.1888249 ,\n",
       "        0.15444814, 0.13520455, 0.19127412, 0.15896461, 0.17633238,\n",
       "        0.15670426, 0.13844666, 0.13260211, 0.15517481, 0.20692026,\n",
       "        0.17511063, 0.14044333, 0.2061084 , 0.16458745, 0.14551194,\n",
       "        0.13269295, 0.18309223, 0.1439067 , 0.19913852, 0.198386  ,\n",
       "        0.16070469, 0.15392268, 0.17528833, 0.15469117, 0.15464036,\n",
       "        0.17218349, 0.14996524, 0.15374466, 0.10993643, 0.15662908,\n",
       "        0.19261991, 0.18347779, 0.15330205, 0.16639733, 0.16052519,\n",
       "        0.17780487, 0.19845354, 0.17100395, 0.11487478, 0.18975804,\n",
       "        0.21308163, 0.16212856, 0.18368719, 0.21793388, 0.187031  ,\n",
       "        0.16471475, 0.1701752 , 0.16161754, 0.12826146, 0.16396187,\n",
       "        0.2021289 , 0.13994557, 0.12532657, 0.21485837, 0.13702663,\n",
       "        0.17771888, 0.11889761, 0.15087611, 0.16220355, 0.19371324,\n",
       "        0.14163559, 0.13734816, 0.16042277, 0.15491244, 0.16370955,\n",
       "        0.17861217, 0.17833897, 0.10810873, 0.160494  , 0.17366602,\n",
       "        0.22320491, 0.16883415, 0.17478624, 0.2197696 , 0.20296278,\n",
       "        0.15383316, 0.18309044, 0.19202861, 0.16047148, 0.16669766,\n",
       "        0.15704973, 0.19107176, 0.13573087, 0.20757902, 0.14552264,\n",
       "        0.13685527, 0.16331461, 0.14300361, 0.21309418, 0.15892079,\n",
       "        0.18000813, 0.15737294, 0.16535519, 0.16765095, 0.20182579,\n",
       "        0.19373857, 0.20993119, 0.11149028, 0.13232723, 0.18887999,\n",
       "        0.16583658, 0.21831855, 0.15910592, 0.18931814, 0.19858259,\n",
       "        0.11647896, 0.16189235, 0.15704916, 0.18754815, 0.16739733,\n",
       "        0.17279089, 0.11446845, 0.19146245, 0.15358062, 0.11694334,\n",
       "        0.14583657, 0.21668586, 0.1311576 , 0.15954352, 0.17259702,\n",
       "        0.15034677, 0.18227937, 0.17858713, 0.19012257, 0.15579571,\n",
       "        0.17218665, 0.18647434, 0.1697846 , 0.19750154, 0.11360931,\n",
       "        0.16993894, 0.14258886, 0.14639473, 0.1976208 , 0.11573965,\n",
       "        0.14868661, 0.20106273, 0.16635604, 0.15176357, 0.1432118 ,\n",
       "        0.18986746, 0.20269354, 0.10906991, 0.21742233, 0.1984634 ,\n",
       "        0.18495938, 0.17894453, 0.14554341, 0.15347516, 0.12611963,\n",
       "        0.12755001, 0.17321465, 0.1591218 , 0.22075769, 0.18344718,\n",
       "        0.147976  , 0.11813881, 0.16795425, 0.11541251, 0.13544847,\n",
       "        0.11109934, 0.2193622 , 0.18887945, 0.15405063, 0.11237195,\n",
       "        0.14722209, 0.15307979, 0.13228778, 0.16394863, 0.1651613 ,\n",
       "        0.11804635, 0.18208106, 0.18479137, 0.15730647, 0.1324776 ,\n",
       "        0.19676874, 0.14968031, 0.16409834, 0.18231539, 0.11254082,\n",
       "        0.16084004, 0.13895223, 0.1264454 , 0.20316509, 0.13777435,\n",
       "        0.19302192, 0.17605355, 0.17576228, 0.15266926, 0.16140272,\n",
       "        0.13134057, 0.21527712, 0.15158281, 0.18027363, 0.13542084,\n",
       "        0.13454058, 0.13279535, 0.16242728, 0.14918996, 0.16715145,\n",
       "        0.11062016, 0.16868492, 0.21282274, 0.12465362, 0.17781543,\n",
       "        0.16903882, 0.15822786, 0.2095768 , 0.18887015, 0.13648259,\n",
       "        0.15608753, 0.14030594, 0.18622055, 0.15241441, 0.19523811,\n",
       "        0.20062201, 0.17228045, 0.13359737, 0.15429572, 0.14264976,\n",
       "        0.16762548, 0.12777177, 0.1867613 , 0.18720385, 0.1605346 ,\n",
       "        0.15585079, 0.14357475, 0.18666797, 0.14365775, 0.11387443,\n",
       "        0.15274927, 0.19978138, 0.12381416, 0.12993124, 0.1759955 ,\n",
       "        0.12313288, 0.12944941, 0.1680071 , 0.1642767 , 0.13087063,\n",
       "        0.1761507 , 0.15097105, 0.17328956, 0.13845401, 0.18593985,\n",
       "        0.15120747, 0.1118989 , 0.16439593, 0.16004599, 0.19812395,\n",
       "        0.21526784, 0.17633057, 0.11608937, 0.16772962, 0.1827901 ,\n",
       "        0.14837921, 0.12475083, 0.19344386, 0.16426169, 0.1434942 ,\n",
       "        0.20518044, 0.21213745, 0.18996577, 0.14176397, 0.18109954,\n",
       "        0.20246654, 0.18706793, 0.12566845, 0.18661099, 0.16192788,\n",
       "        0.2059004 , 0.17109819, 0.14454215, 0.21240245, 0.15731961,\n",
       "        0.16323502, 0.17948698, 0.14797914, 0.18725925, 0.12354859,\n",
       "        0.17753098, 0.19660705, 0.15735281, 0.16287218, 0.14807406,\n",
       "        0.16000387, 0.17735961, 0.15224994, 0.19605949, 0.12006073,\n",
       "        0.17548003, 0.16838482, 0.18180709, 0.11409703, 0.18493402,\n",
       "        0.17664417, 0.13168943, 0.20616938, 0.12175193, 0.1546664 ,\n",
       "        0.18639679, 0.12267235, 0.12989956, 0.13743097, 0.19544549,\n",
       "        0.15589288, 0.18647888, 0.1573427 , 0.17653632, 0.1715053 ,\n",
       "        0.1373542 , 0.15390473, 0.17220839, 0.1804016 , 0.15536875,\n",
       "        0.1938154 , 0.13573906, 0.17541189, 0.12308333, 0.22234404,\n",
       "        0.17322699, 0.2031063 , 0.15851175, 0.2046761 , 0.16509004,\n",
       "        0.21067275, 0.18750105, 0.16917243, 0.22266078, 0.11936303,\n",
       "        0.14258449, 0.22400159, 0.18148934, 0.1322099 , 0.15243024,\n",
       "        0.22093623, 0.16152427, 0.15712498, 0.11814654, 0.11593639,\n",
       "        0.15881236, 0.18378224, 0.15442649, 0.16530439, 0.21306268,\n",
       "        0.11669472, 0.15971277, 0.11220007, 0.15595782, 0.13194434,\n",
       "        0.17405599, 0.20747949, 0.19953664, 0.13790511, 0.21113341,\n",
       "        0.16222719, 0.12046006, 0.11705671, 0.14846164, 0.21878804,\n",
       "        0.15790522, 0.1291013 , 0.21227585, 0.18943335, 0.13397044,\n",
       "        0.17535223, 0.14164785, 0.12896775, 0.14501151, 0.13710527,\n",
       "        0.17196336, 0.11627483, 0.12088916, 0.14769836, 0.14715313,\n",
       "        0.18177417, 0.11479715, 0.21841376, 0.11438397, 0.1552784 ,\n",
       "        0.15853017, 0.15512387, 0.14600169, 0.14981669, 0.20399082,\n",
       "        0.16096267, 0.22006716, 0.19497582, 0.18450359, 0.18722304,\n",
       "        0.11481415, 0.13757072, 0.20885724, 0.13275682, 0.16372956,\n",
       "        0.17877695, 0.12664226, 0.18118809, 0.18850481, 0.17065124,\n",
       "        0.14752176, 0.16609336, 0.18614772, 0.16468392, 0.1715266 ,\n",
       "        0.14897696, 0.14873299, 0.20093439, 0.21303286, 0.15805286,\n",
       "        0.16286522, 0.20530434, 0.16812697, 0.16148902, 0.19830107,\n",
       "        0.17358556, 0.20779927, 0.16433316, 0.22373164, 0.20799441,\n",
       "        0.18788864, 0.14369852, 0.1519176 , 0.19309864, 0.16160184,\n",
       "        0.16109374, 0.20178883, 0.16018728, 0.1639845 , 0.17611297,\n",
       "        0.12986894, 0.17103762, 0.21620422, 0.20991115, 0.16542938,\n",
       "        0.16137719, 0.17884481, 0.16439219, 0.16959377, 0.19890406,\n",
       "        0.15160191, 0.16219839, 0.11739592, 0.16274484, 0.1311417 ,\n",
       "        0.16445761, 0.2010106 , 0.17241021, 0.14333457, 0.18043803,\n",
       "        0.15251455, 0.21008047, 0.21680116, 0.12405809, 0.18626259,\n",
       "        0.16274601, 0.14785701, 0.1202435 , 0.12644718, 0.13132183,\n",
       "        0.19126492, 0.19909892, 0.21440182, 0.1867679 , 0.17236535,\n",
       "        0.1717682 , 0.12842627, 0.15833519, 0.12086778, 0.18674695,\n",
       "        0.14364042, 0.16616401, 0.1791473 , 0.19918331, 0.1730607 ,\n",
       "        0.13232565, 0.18917696, 0.21402421, 0.18491543, 0.12715426,\n",
       "        0.11232549, 0.22018218, 0.17707234, 0.12815972, 0.21863153,\n",
       "        0.19250304, 0.13981423, 0.16598194, 0.13827834, 0.13576644,\n",
       "        0.12718025, 0.20024039, 0.17818614, 0.15189504, 0.2042962 ,\n",
       "        0.19105044, 0.18417429, 0.18464157, 0.20447999, 0.16298686,\n",
       "        0.13987883, 0.13274327, 0.20087453, 0.15641286, 0.17683524,\n",
       "        0.14791345, 0.21263481, 0.19992363, 0.16220491, 0.18696693,\n",
       "        0.1194165 , 0.12837002, 0.11414139, 0.13282837, 0.15552228,\n",
       "        0.20104359, 0.18073421, 0.17859686, 0.13291818, 0.15262377,\n",
       "        0.19174472, 0.18236354, 0.11583265, 0.16360954, 0.1843365 ,\n",
       "        0.12838631, 0.16525587, 0.12559523, 0.17059081, 0.1133926 ,\n",
       "        0.17373929, 0.20871595, 0.13788291, 0.14697639, 0.17672981,\n",
       "        0.15689653, 0.17553819, 0.18580823, 0.22091445, 0.15878767,\n",
       "        0.18914192, 0.13011299, 0.11357195, 0.16601674, 0.14063856,\n",
       "        0.21859387, 0.13389478, 0.14761294, 0.21852388, 0.14811871,\n",
       "        0.17687924, 0.13368997, 0.17819943, 0.13171225, 0.20726666,\n",
       "        0.21503746, 0.16814583, 0.18618279, 0.17248969, 0.20566175,\n",
       "        0.18953677, 0.22118438, 0.1099299 , 0.13200502, 0.20909227,\n",
       "        0.2223612 , 0.14238899, 0.16541054, 0.17236895, 0.21467054,\n",
       "        0.17348416, 0.16600173, 0.18226139, 0.1844907 , 0.16718872,\n",
       "        0.16710777, 0.14084032, 0.11681446, 0.15032777, 0.19026791]),\n",
       " array([0.15022244, 0.22472675, 0.20292556, 0.37593236, 0.15730598,\n",
       "        0.23589906, 0.14878208, 0.28305584, 0.3079987 , 0.20647812,\n",
       "        0.26835276, 0.18830599, 0.21183188, 0.23418206, 0.34197284,\n",
       "        0.20543197, 0.23623754, 0.17992591, 0.15048632, 0.15863063,\n",
       "        0.16921033, 0.2055824 , 0.18961051, 0.20622314, 0.21468124,\n",
       "        0.29562939, 0.28394983, 0.21024833, 0.1899203 , 0.14847363,\n",
       "        0.33615985, 0.28468379, 0.21597892, 0.1497405 , 0.22910423,\n",
       "        0.2306479 , 0.233369  , 0.18614719, 0.20551623, 0.2826021 ,\n",
       "        0.18234207, 0.24511215, 0.23380355, 0.15266171, 0.21008317,\n",
       "        0.19969415, 0.14949948, 0.21589864, 0.33738808, 0.25239631,\n",
       "        0.24906058, 0.3820808 , 0.33677073, 0.38930746, 0.2080346 ,\n",
       "        0.22907945, 0.19486885, 0.22726744, 0.20365623, 0.1929083 ,\n",
       "        0.2241324 , 0.31668867, 0.28996801, 0.24436559, 0.1484268 ,\n",
       "        0.36453996, 0.30970072, 0.25176936, 0.22917339, 0.22007213,\n",
       "        0.37515149, 0.29179346, 0.16902428, 0.1831098 , 0.20322481,\n",
       "        0.26824803, 0.18046438, 0.2534751 , 0.22269266, 0.16870617,\n",
       "        0.38675122, 0.2659818 , 0.39156281, 0.14848465, 0.36231741,\n",
       "        0.19976285, 0.24674086, 0.2414684 , 0.2295373 , 0.37159302,\n",
       "        0.2311443 , 0.28855649, 0.29226235, 0.3181254 , 0.25756097,\n",
       "        0.18767127, 0.15032742, 0.23117757, 0.28119926, 0.18829522,\n",
       "        0.22783806, 0.20278306, 0.24040626, 0.21695824, 0.24381491,\n",
       "        0.17688573, 0.27515455, 0.1517181 , 0.27252436, 0.19379082,\n",
       "        0.34010833, 0.24053978, 0.26297843, 0.27656556, 0.24462277,\n",
       "        0.15820506, 0.34977159, 0.23869557, 0.22421803, 0.25322511,\n",
       "        0.16566771, 0.24948303, 0.34823457, 0.17324003, 0.16465007,\n",
       "        0.26681637, 0.18018889, 0.23265452, 0.20357157, 0.19674592,\n",
       "        0.26119797, 0.19474534, 0.18540274, 0.29804614, 0.33263381,\n",
       "        0.14968457, 0.21406775, 0.17398106, 0.2036042 , 0.15602789,\n",
       "        0.21435843, 0.26738522, 0.18687574, 0.20826976, 0.2869296 ,\n",
       "        0.19253003, 0.25825089, 0.18234344, 0.14879993, 0.24551392,\n",
       "        0.28532734, 0.29921799, 0.24868982, 0.20534541, 0.14879315,\n",
       "        0.29841253, 0.24013013, 0.17986283, 0.283705  , 0.21332708,\n",
       "        0.17521002, 0.3384914 , 0.19849215, 0.30832284, 0.30277672,\n",
       "        0.15095157, 0.28383251, 0.23519318, 0.23097479, 0.32690851,\n",
       "        0.22123319, 0.1711445 , 0.20280131, 0.21674383, 0.35451702,\n",
       "        0.24016945, 0.21267197, 0.31656684, 0.15877401, 0.22556959,\n",
       "        0.32829961, 0.20688401, 0.21334107, 0.18519509, 0.17963014,\n",
       "        0.28460224, 0.14840935, 0.19058689, 0.15438272, 0.29965059,\n",
       "        0.15257834, 0.32243276, 0.37103437, 0.22345297, 0.22840861,\n",
       "        0.33000706, 0.15363746, 0.16087639, 0.14938343, 0.14842784,\n",
       "        0.21240447, 0.22372657, 0.17846976, 0.17107424, 0.15378162,\n",
       "        0.37341678, 0.29024433, 0.19928978, 0.21653596, 0.22401775,\n",
       "        0.30532909, 0.27317085, 0.25192353, 0.14850431, 0.21735251,\n",
       "        0.36385757, 0.19062905, 0.33140171, 0.2636863 , 0.15905091,\n",
       "        0.26254856, 0.21605927, 0.22287352, 0.15427264, 0.23726351,\n",
       "        0.21969224, 0.20031075, 0.34461368, 0.16006295, 0.34263946,\n",
       "        0.22415412, 0.2476505 , 0.21332696, 0.15528864, 0.22813946,\n",
       "        0.21305713, 0.35924912, 0.24453299, 0.27486433, 0.26408318,\n",
       "        0.14984522, 0.27755312, 0.21932834, 0.14878131, 0.23803123,\n",
       "        0.34198029, 0.14860032, 0.15158688, 0.14845373, 0.28562153,\n",
       "        0.31094876, 0.170009  , 0.21134877, 0.22110992, 0.16613062,\n",
       "        0.2089669 , 0.21091716, 0.2677748 , 0.21012404, 0.20613139,\n",
       "        0.15017558, 0.19866789, 0.19421642, 0.15024951, 0.20418384,\n",
       "        0.19424754, 0.35341385, 0.16081803, 0.17047378, 0.27363773,\n",
       "        0.18535433, 0.15514234, 0.33163495, 0.23902867, 0.18167854,\n",
       "        0.35053489, 0.29053748, 0.3199497 , 0.17595731, 0.22590613,\n",
       "        0.19568153, 0.17028044, 0.19221237, 0.16176231, 0.18890636,\n",
       "        0.20039128, 0.20399514, 0.2593097 , 0.1964929 , 0.32508693,\n",
       "        0.22065375, 0.27393506, 0.19001815, 0.23691896, 0.22560928,\n",
       "        0.2446728 , 0.24218612, 0.31990856, 0.15544222, 0.22282497,\n",
       "        0.14842623, 0.15217014, 0.18337793, 0.2209947 , 0.14942283,\n",
       "        0.24188437, 0.24841849, 0.20908979, 0.38233895, 0.28603573,\n",
       "        0.22579294, 0.30421467, 0.27135923, 0.29947624, 0.2555991 ,\n",
       "        0.35020642, 0.28271207, 0.27203877, 0.23276303, 0.27290302,\n",
       "        0.23827979, 0.21846871, 0.33736178, 0.26904531, 0.19481013,\n",
       "        0.14906633, 0.19175505, 0.21562498, 0.30802959, 0.23483559,\n",
       "        0.26812062, 0.22006408, 0.2440436 , 0.17352873, 0.26569012,\n",
       "        0.23645866, 0.21979374, 0.33840253, 0.16615889, 0.14995159,\n",
       "        0.18929361, 0.21739208, 0.26921164, 0.25248234, 0.19104539,\n",
       "        0.2796254 , 0.26558619, 0.1920136 , 0.25374823, 0.3958282 ,\n",
       "        0.15024737, 0.17968984, 0.3032774 , 0.20024764, 0.32800968,\n",
       "        0.15002549, 0.17336371, 0.16299886, 0.22232052, 0.14996333,\n",
       "        0.30632256, 0.14840075, 0.17925843, 0.14981303, 0.28065409,\n",
       "        0.18393477, 0.20313515, 0.18184319, 0.15727484, 0.15375152,\n",
       "        0.1835647 , 0.21701751, 0.21062028, 0.16104009, 0.21144299,\n",
       "        0.15002966, 0.32731596, 0.15059314, 0.28656625, 0.18496153,\n",
       "        0.32617316, 0.15577467, 0.26182738, 0.22407979, 0.21215014,\n",
       "        0.29951095, 0.2338675 , 0.23312699, 0.35909843, 0.23916057,\n",
       "        0.15691867, 0.15020494, 0.29687479, 0.28872205, 0.15506306,\n",
       "        0.16246681, 0.14899314, 0.15653937, 0.15195453, 0.2191437 ,\n",
       "        0.24547925, 0.17995953, 0.148652  , 0.32393561, 0.2317023 ,\n",
       "        0.2324635 , 0.24497917, 0.23039938, 0.35186007, 0.15116967,\n",
       "        0.23048625, 0.22489658, 0.14852569, 0.33618759, 0.18731815,\n",
       "        0.14883116, 0.19475054, 0.14965672, 0.19624809, 0.28590884,\n",
       "        0.19579649, 0.16099463, 0.29304455, 0.20612193, 0.25064199,\n",
       "        0.20087456, 0.16557132, 0.15778058, 0.19741393, 0.33989206,\n",
       "        0.24731309, 0.16868541, 0.33741567, 0.21979383, 0.17750916,\n",
       "        0.15788555, 0.26947048, 0.17457961, 0.31634549, 0.31409257,\n",
       "        0.21026291, 0.19463801, 0.24779573, 0.19633548, 0.19622263,\n",
       "        0.23944128, 0.18623021, 0.19424767, 0.15022108, 0.20070272,\n",
       "        0.29699148, 0.27056352, 0.19328194, 0.22436258, 0.20983185,\n",
       "        0.25468597, 0.31429459, 0.23631309, 0.14854488, 0.28862009,\n",
       "        0.3588181 , 0.21371309, 0.27115797, 0.37387157, 0.28072342,\n",
       "        0.22011267, 0.23413115, 0.21246865, 0.15340427, 0.21823261,\n",
       "        0.32534207, 0.16788889, 0.15118847, 0.36431603, 0.16349143,\n",
       "        0.25444886, 0.148569  , 0.18811378, 0.21389627, 0.30021095,\n",
       "        0.17064611, 0.16395228, 0.20958627, 0.19682792, 0.2176056 ,\n",
       "        0.25691731, 0.25616109, 0.15130801, 0.20975704, 0.24340931,\n",
       "        0.39035348, 0.23062934, 0.2464334 , 0.37959723, 0.32786276,\n",
       "        0.19444158, 0.26946542, 0.29525514, 0.20970302, 0.22512795,\n",
       "        0.20166652, 0.29245263, 0.16169553, 0.34190456, 0.17752908,\n",
       "        0.16324826, 0.21662732, 0.17298509, 0.35885688, 0.20601875,\n",
       "        0.26079857, 0.20241079, 0.22172258, 0.22757053, 0.32442705,\n",
       "        0.30028568, 0.34911256, 0.14949328, 0.15746619, 0.28606864,\n",
       "        0.22293897, 0.37507003, 0.20645501, 0.28734079, 0.31468069,\n",
       "        0.14840405, 0.21313702, 0.20166521, 0.28221459, 0.22691875,\n",
       "        0.24106221, 0.14861219, 0.2935958 , 0.19388895, 0.14840053,\n",
       "        0.178116  , 0.36998828, 0.15618366, 0.20749012, 0.24054411,\n",
       "        0.18701526, 0.26717239, 0.25684795, 0.28968177, 0.19880975,\n",
       "        0.23944967, 0.27912175, 0.23310746, 0.3114506 , 0.14879647,\n",
       "        0.2335116 , 0.1722661 , 0.17917041, 0.31180647, 0.14844417,\n",
       "        0.18364137, 0.32212664, 0.2242575 , 0.18997932, 0.17334917,\n",
       "        0.28893863, 0.32704835, 0.15070556, 0.37227891, 0.31432408,\n",
       "        0.27478128, 0.25783879, 0.17756779, 0.19365883, 0.15172597,\n",
       "        0.15281049, 0.24219702, 0.20649248, 0.3826856 , 0.27047667,\n",
       "        0.18223135, 0.14846844, 0.22835181, 0.14847545, 0.16131738,\n",
       "        0.14965923, 0.37832515, 0.28606708, 0.19491922, 0.14916165,\n",
       "        0.18075857, 0.19279959, 0.15742147, 0.21819967, 0.22123417,\n",
       "        0.14845923, 0.26661307, 0.27430162, 0.20225746, 0.15763756,\n",
       "        0.3092666 , 0.18564766, 0.21857237, 0.26727405, 0.1491049 ,\n",
       "        0.21058855, 0.16633926, 0.15196002, 0.32847509, 0.16457229,\n",
       "        0.29817395, 0.24988012, 0.24908559, 0.19191324, 0.21194757,\n",
       "        0.15637834, 0.36561426, 0.18959696, 0.26153993, 0.16128064,\n",
       "        0.16013448, 0.15800452, 0.21444369, 0.18465266, 0.2262882 ,\n",
       "        0.14987841, 0.23024192, 0.35801844, 0.15076857, 0.25471507,\n",
       "        0.2311614 , 0.20439476, 0.34802441, 0.28604012, 0.16272533,\n",
       "        0.19947009, 0.16846424, 0.27839273, 0.19136604, 0.30471978,\n",
       "        0.32079999, 0.23969957, 0.15895949, 0.19545948, 0.17237115,\n",
       "        0.22750501, 0.15299174, 0.27994698, 0.28122148, 0.20985443,\n",
       "        0.19893418, 0.17398894, 0.27967849, 0.17413613, 0.14873353,\n",
       "        0.19208552, 0.31827369, 0.15029176, 0.15493674, 0.24972164,\n",
       "        0.14994346, 0.15447476, 0.22848813, 0.21901711, 0.15588281,\n",
       "        0.25014541, 0.18831194, 0.24239799, 0.16558239, 0.27758729,\n",
       "        0.18880687, 0.14933222, 0.21931486, 0.20868539, 0.31330915,\n",
       "        0.36558546, 0.25063705, 0.14841991, 0.22777297, 0.2686153 ,\n",
       "        0.18302886, 0.15082716, 0.29941667, 0.21897966, 0.17384639,\n",
       "        0.33459052, 0.35590347, 0.28922491, 0.17086161, 0.26385254,\n",
       "        0.32636209, 0.28082979, 0.15141456, 0.27951459, 0.21322358,\n",
       "        0.33678193, 0.23656204, 0.17572495, 0.35672098, 0.20228777,\n",
       "        0.21643066, 0.25934626, 0.18223753, 0.28138118, 0.15015185,\n",
       "        0.25393119, 0.30878532, 0.20236435, 0.21553606, 0.18242469,\n",
       "        0.20858491, 0.25345955, 0.19101416, 0.3071572 , 0.14880954,\n",
       "        0.248317  , 0.22946426, 0.26584122, 0.14868487, 0.27470884,\n",
       "        0.25149541, 0.15675567, 0.33760152, 0.14934481, 0.19628046,\n",
       "        0.2788989 , 0.14972778, 0.15490588, 0.16407193, 0.3053346 ,\n",
       "        0.19902932, 0.27913481, 0.20234101, 0.25120005, 0.23763948,\n",
       "        0.16396099, 0.1945986 , 0.23950758, 0.26189764, 0.19784856,\n",
       "        0.30051235, 0.16170656, 0.24813166, 0.14991949, 0.38765312,\n",
       "        0.24223012, 0.32829711, 0.20505839, 0.3330575 , 0.22105489,\n",
       "        0.35139193, 0.28207865, 0.23150922, 0.38864629, 0.14865272,\n",
       "        0.17225857, 0.3928553 , 0.26494728, 0.15733349, 0.19139997,\n",
       "        0.38324414, 0.21224227, 0.20183953, 0.14846924, 0.14842936,\n",
       "        0.20576369, 0.27142798, 0.19574859, 0.22159453, 0.35875957,\n",
       "        0.14840033, 0.20789192, 0.14922165, 0.19917623, 0.15703645,\n",
       "        0.2444596 , 0.34160033, 0.31753922, 0.1647646 , 0.3528095 ,\n",
       "        0.21395407, 0.14891616, 0.14840221, 0.18319272, 0.37653371,\n",
       "        0.20364343, 0.15415092, 0.35633039, 0.28767564, 0.15941759,\n",
       "        0.24796943, 0.17066666, 0.1540289 , 0.17658306, 0.16360359,\n",
       "        0.23885551, 0.14841089, 0.14904437, 0.18168618, 0.18062506,\n",
       "        0.26574854, 0.14855676, 0.37536679, 0.14862778, 0.19764593,\n",
       "        0.20510154, 0.19729998, 0.17842648, 0.18592609, 0.33097726,\n",
       "        0.21088401, 0.38052681, 0.30394273, 0.27348084, 0.28127679,\n",
       "        0.14855412, 0.16427476, 0.34581733, 0.15795968, 0.21765525,\n",
       "        0.25737396, 0.15210517, 0.26410105, 0.28498097, 0.23538282,\n",
       "        0.18134109, 0.22358999, 0.27818364, 0.22003542, 0.23769595,\n",
       "        0.18422347, 0.18373412, 0.32174016, 0.35866745, 0.20398686,\n",
       "        0.21551892, 0.3349674 , 0.22879758, 0.21215676, 0.31383862,\n",
       "        0.24319296, 0.34257802, 0.21915808, 0.39200728, 0.34317498,\n",
       "        0.28319803, 0.17420856, 0.1903061 , 0.29839977, 0.21243052,\n",
       "        0.21120024, 0.32431552, 0.20902275, 0.21828891, 0.25004237,\n",
       "        0.15487611, 0.23640202, 0.36849169, 0.34905101, 0.2219097 ,\n",
       "        0.21188573, 0.25756215, 0.21930552, 0.23260844, 0.31564306,\n",
       "        0.1896373 , 0.21388366, 0.1484132 , 0.21522287, 0.15616685,\n",
       "        0.21946902, 0.32196965, 0.24004552, 0.17356485, 0.26199951,\n",
       "        0.19158078, 0.34957115, 0.37034671, 0.1504249 , 0.27851344,\n",
       "        0.21522577, 0.18199731, 0.14885682, 0.15196132, 0.1563583 ,\n",
       "        0.29301762, 0.31622682, 0.3629017 , 0.27996597, 0.23992587,\n",
       "        0.23833692, 0.15354691, 0.20464538, 0.14903765, 0.27990569,\n",
       "        0.17410537, 0.22376937, 0.25840179, 0.31647972, 0.24178438,\n",
       "        0.1574644 , 0.28693065, 0.3617327 , 0.27465576, 0.15249575,\n",
       "        0.14917764, 0.38088625, 0.25266992, 0.15331717, 0.37604567,\n",
       "        0.29664802, 0.16768095, 0.22330732, 0.16531882, 0.1617435 ,\n",
       "        0.15251608, 0.31965244, 0.25573856, 0.19025819, 0.33190388,\n",
       "        0.2923903 , 0.27254289, 0.27387424, 0.33246186, 0.21581845,\n",
       "        0.16778311, 0.15794392, 0.32155994, 0.20020947, 0.25201918,\n",
       "        0.18210825, 0.35743817, 0.3187008 , 0.21389961, 0.28053889,\n",
       "        0.14866341, 0.15349801, 0.14867563, 0.15804302, 0.19819351,\n",
       "        0.322069  , 0.26282843, 0.25687492, 0.15814811, 0.1918154 ,\n",
       "        0.29442269, 0.26740996, 0.1484368 , 0.21735751, 0.27300473,\n",
       "        0.15351215, 0.22147227, 0.15136541, 0.23522369, 0.14885194,\n",
       "        0.24360644, 0.34538433, 0.16473187, 0.18028383, 0.25173009,\n",
       "        0.20131488, 0.24847525, 0.27720991, 0.38317599, 0.20570568,\n",
       "        0.28682891, 0.15511512, 0.14880578, 0.22339558, 0.16900139,\n",
       "        0.37592825, 0.15932397, 0.18151911, 0.37571004, 0.18251284,\n",
       "        0.25213988, 0.15907237, 0.25577527, 0.15678063, 0.34094995,\n",
       "        0.36487113, 0.22884631, 0.27828432, 0.24025757, 0.33605513,\n",
       "        0.28797635, 0.38402064, 0.15022452, 0.15710392, 0.34653787,\n",
       "        0.38770692, 0.17192267, 0.22186217, 0.23993547, 0.36373401,\n",
       "        0.24292044, 0.2233575 , 0.26712167, 0.27344409, 0.22638369,\n",
       "        0.22617632, 0.16933005, 0.14839983, 0.18697603, 0.29010543]))"
      ]
     },
     "execution_count": 135,
     "metadata": {},
     "output_type": "execute_result"
    }
   ],
   "source": [
    "for x in range(1000):\n",
    "    weights  = np.random.random(num_assets)\n",
    "    weights /= np.sum(weights)\n",
    "    pfolio_returns.append(np.sum(weights * log_returns.mean()) * 250)\n",
    "    pfolio_volatilities.append(np.sqrt(np.dot(weights.T, np.dot(log_returns.cov() * 250, weights))))\n",
    "    \n",
    "    \n",
    "pfolio_returns = np.array(pfolio_returns)\n",
    "pfolio_volatilities = np.array(pfolio_volatilities)\n",
    "pfolio_returns, pfolio_volatilities"
   ]
  },
  {
   "cell_type": "code",
   "execution_count": 136,
   "metadata": {},
   "outputs": [],
   "source": [
    "portfolios = pd.DataFrame({'Return': pfolio_returns, 'Volatility': pfolio_volatilities})"
   ]
  },
  {
   "cell_type": "code",
   "execution_count": 137,
   "metadata": {},
   "outputs": [
    {
     "data": {
      "text/html": [
       "<div>\n",
       "<style scoped>\n",
       "    .dataframe tbody tr th:only-of-type {\n",
       "        vertical-align: middle;\n",
       "    }\n",
       "\n",
       "    .dataframe tbody tr th {\n",
       "        vertical-align: top;\n",
       "    }\n",
       "\n",
       "    .dataframe thead th {\n",
       "        text-align: right;\n",
       "    }\n",
       "</style>\n",
       "<table border=\"1\" class=\"dataframe\">\n",
       "  <thead>\n",
       "    <tr style=\"text-align: right;\">\n",
       "      <th></th>\n",
       "      <th>Return</th>\n",
       "      <th>Volatility</th>\n",
       "    </tr>\n",
       "  </thead>\n",
       "  <tbody>\n",
       "    <tr>\n",
       "      <th>0</th>\n",
       "      <td>0.123684</td>\n",
       "      <td>0.150222</td>\n",
       "    </tr>\n",
       "    <tr>\n",
       "      <th>1</th>\n",
       "      <td>0.166540</td>\n",
       "      <td>0.224727</td>\n",
       "    </tr>\n",
       "    <tr>\n",
       "      <th>2</th>\n",
       "      <td>0.157596</td>\n",
       "      <td>0.202926</td>\n",
       "    </tr>\n",
       "    <tr>\n",
       "      <th>3</th>\n",
       "      <td>0.218595</td>\n",
       "      <td>0.375932</td>\n",
       "    </tr>\n",
       "    <tr>\n",
       "      <th>4</th>\n",
       "      <td>0.132185</td>\n",
       "      <td>0.157306</td>\n",
       "    </tr>\n",
       "  </tbody>\n",
       "</table>\n",
       "</div>"
      ],
      "text/plain": [
       "     Return  Volatility\n",
       "0  0.123684    0.150222\n",
       "1  0.166540    0.224727\n",
       "2  0.157596    0.202926\n",
       "3  0.218595    0.375932\n",
       "4  0.132185    0.157306"
      ]
     },
     "execution_count": 137,
     "metadata": {},
     "output_type": "execute_result"
    }
   ],
   "source": [
    "portfolios.head()"
   ]
  },
  {
   "cell_type": "code",
   "execution_count": 138,
   "metadata": {},
   "outputs": [
    {
     "data": {
      "text/html": [
       "<div>\n",
       "<style scoped>\n",
       "    .dataframe tbody tr th:only-of-type {\n",
       "        vertical-align: middle;\n",
       "    }\n",
       "\n",
       "    .dataframe tbody tr th {\n",
       "        vertical-align: top;\n",
       "    }\n",
       "\n",
       "    .dataframe thead th {\n",
       "        text-align: right;\n",
       "    }\n",
       "</style>\n",
       "<table border=\"1\" class=\"dataframe\">\n",
       "  <thead>\n",
       "    <tr style=\"text-align: right;\">\n",
       "      <th></th>\n",
       "      <th>Return</th>\n",
       "      <th>Volatility</th>\n",
       "    </tr>\n",
       "  </thead>\n",
       "  <tbody>\n",
       "    <tr>\n",
       "      <th>995</th>\n",
       "      <td>0.167108</td>\n",
       "      <td>0.226176</td>\n",
       "    </tr>\n",
       "    <tr>\n",
       "      <th>996</th>\n",
       "      <td>0.140840</td>\n",
       "      <td>0.169330</td>\n",
       "    </tr>\n",
       "    <tr>\n",
       "      <th>997</th>\n",
       "      <td>0.116814</td>\n",
       "      <td>0.148400</td>\n",
       "    </tr>\n",
       "    <tr>\n",
       "      <th>998</th>\n",
       "      <td>0.150328</td>\n",
       "      <td>0.186976</td>\n",
       "    </tr>\n",
       "    <tr>\n",
       "      <th>999</th>\n",
       "      <td>0.190268</td>\n",
       "      <td>0.290105</td>\n",
       "    </tr>\n",
       "  </tbody>\n",
       "</table>\n",
       "</div>"
      ],
      "text/plain": [
       "       Return  Volatility\n",
       "995  0.167108    0.226176\n",
       "996  0.140840    0.169330\n",
       "997  0.116814    0.148400\n",
       "998  0.150328    0.186976\n",
       "999  0.190268    0.290105"
      ]
     },
     "execution_count": 138,
     "metadata": {},
     "output_type": "execute_result"
    }
   ],
   "source": [
    "portfolios.tail()"
   ]
  },
  {
   "cell_type": "code",
   "execution_count": 139,
   "metadata": {},
   "outputs": [
    {
     "data": {
      "text/plain": [
       "Text(0, 0.5, 'Expected Return')"
      ]
     },
     "execution_count": 139,
     "metadata": {},
     "output_type": "execute_result"
    },
    {
     "data": {
      "image/png": "[encoded data removed]",
      "text/plain": [
       "<Figure size 720x432 with 1 Axes>"
      ]
     },
     "metadata": {
      "needs_background": "light"
     },
     "output_type": "display_data"
    }
   ],
   "source": [
    "portfolios.plot(x='Volatility', y='Return', kind='scatter', figsize=(10,6)) #satter = gráfico de dispersão\n",
    "plt.xlabel('Expected Volatility')\n",
    "plt.ylabel('Expected Return')"
   ]
  },
  {
   "cell_type": "code",
   "execution_count": null,
   "metadata": {},
   "outputs": [],
   "source": []
  }
 ],
 "metadata": {
  "kernelspec": {
   "display_name": "Python 3",
   "language": "python",
   "name": "python3"
  },
  "language_info": {
   "codemirror_mode": {
    "name": "ipython",
    "version": 3
   },
   "file_extension": ".py",
   "mimetype": "text/x-python",
   "name": "python",
   "nbconvert_exporter": "python",
   "pygments_lexer": "ipython3",
   "version": "3.7.3"
  }
 },
 "nbformat": 4,
 "nbformat_minor": 2
}
