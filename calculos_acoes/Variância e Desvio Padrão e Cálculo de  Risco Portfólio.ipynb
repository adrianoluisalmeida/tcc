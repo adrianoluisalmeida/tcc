{
 "cells": [
  {
   "cell_type": "code",
   "execution_count": 1,
   "metadata": {},
   "outputs": [],
   "source": [
    "import numpy as np\n",
    "import pandas as pd\n",
    "from pandas_datareader import data as wb\n",
    "import matplotlib.pyplot as plt"
   ]
  },
  {
   "cell_type": "code",
   "execution_count": 2,
   "metadata": {},
   "outputs": [],
   "source": [
    "tickers = ['ITUB4.SA', 'BBAS3.SA']\n",
    "sec_data = pd.DataFrame()"
   ]
  },
  {
   "cell_type": "code",
   "execution_count": 3,
   "metadata": {},
   "outputs": [],
   "source": [
    "for t in tickers:\n",
    "    sec_data[t] = wb.DataReader(t, data_source='yahoo', start='2007-01-01')['Adj Close']"
   ]
  },
  {
   "cell_type": "code",
   "execution_count": 4,
   "metadata": {},
   "outputs": [
    {
     "data": {
      "text/html": [
       "<div>\n",
       "<style scoped>\n",
       "    .dataframe tbody tr th:only-of-type {\n",
       "        vertical-align: middle;\n",
       "    }\n",
       "\n",
       "    .dataframe tbody tr th {\n",
       "        vertical-align: top;\n",
       "    }\n",
       "\n",
       "    .dataframe thead th {\n",
       "        text-align: right;\n",
       "    }\n",
       "</style>\n",
       "<table border=\"1\" class=\"dataframe\">\n",
       "  <thead>\n",
       "    <tr style=\"text-align: right;\">\n",
       "      <th></th>\n",
       "      <th>ITUB4.SA</th>\n",
       "      <th>BBAS3.SA</th>\n",
       "    </tr>\n",
       "    <tr>\n",
       "      <th>Date</th>\n",
       "      <th></th>\n",
       "      <th></th>\n",
       "    </tr>\n",
       "  </thead>\n",
       "  <tbody>\n",
       "    <tr>\n",
       "      <th>2007-01-02</th>\n",
       "      <td>9.461762</td>\n",
       "      <td>12.629530</td>\n",
       "    </tr>\n",
       "    <tr>\n",
       "      <th>2007-01-03</th>\n",
       "      <td>9.518553</td>\n",
       "      <td>12.402819</td>\n",
       "    </tr>\n",
       "    <tr>\n",
       "      <th>2007-01-04</th>\n",
       "      <td>9.427958</td>\n",
       "      <td>12.854335</td>\n",
       "    </tr>\n",
       "    <tr>\n",
       "      <th>2007-01-05</th>\n",
       "      <td>9.065302</td>\n",
       "      <td>12.297105</td>\n",
       "    </tr>\n",
       "    <tr>\n",
       "      <th>2007-01-08</th>\n",
       "      <td>9.261155</td>\n",
       "      <td>12.585320</td>\n",
       "    </tr>\n",
       "  </tbody>\n",
       "</table>\n",
       "</div>"
      ],
      "text/plain": [
       "            ITUB4.SA   BBAS3.SA\n",
       "Date                           \n",
       "2007-01-02  9.461762  12.629530\n",
       "2007-01-03  9.518553  12.402819\n",
       "2007-01-04  9.427958  12.854335\n",
       "2007-01-05  9.065302  12.297105\n",
       "2007-01-08  9.261155  12.585320"
      ]
     },
     "execution_count": 4,
     "metadata": {},
     "output_type": "execute_result"
    }
   ],
   "source": [
    "sec_data.head()"
   ]
  },
  {
   "cell_type": "code",
   "execution_count": 5,
   "metadata": {},
   "outputs": [
    {
     "data": {
      "text/html": [
       "<div>\n",
       "<style scoped>\n",
       "    .dataframe tbody tr th:only-of-type {\n",
       "        vertical-align: middle;\n",
       "    }\n",
       "\n",
       "    .dataframe tbody tr th {\n",
       "        vertical-align: top;\n",
       "    }\n",
       "\n",
       "    .dataframe thead th {\n",
       "        text-align: right;\n",
       "    }\n",
       "</style>\n",
       "<table border=\"1\" class=\"dataframe\">\n",
       "  <thead>\n",
       "    <tr style=\"text-align: right;\">\n",
       "      <th></th>\n",
       "      <th>ITUB4.SA</th>\n",
       "      <th>BBAS3.SA</th>\n",
       "    </tr>\n",
       "    <tr>\n",
       "      <th>Date</th>\n",
       "      <th></th>\n",
       "      <th></th>\n",
       "    </tr>\n",
       "  </thead>\n",
       "  <tbody>\n",
       "    <tr>\n",
       "      <th>2007-01-02</th>\n",
       "      <td>NaN</td>\n",
       "      <td>NaN</td>\n",
       "    </tr>\n",
       "    <tr>\n",
       "      <th>2007-01-03</th>\n",
       "      <td>0.005984</td>\n",
       "      <td>-0.018114</td>\n",
       "    </tr>\n",
       "    <tr>\n",
       "      <th>2007-01-04</th>\n",
       "      <td>-0.009563</td>\n",
       "      <td>0.035757</td>\n",
       "    </tr>\n",
       "    <tr>\n",
       "      <th>2007-01-05</th>\n",
       "      <td>-0.039225</td>\n",
       "      <td>-0.044317</td>\n",
       "    </tr>\n",
       "    <tr>\n",
       "      <th>2007-01-08</th>\n",
       "      <td>0.021375</td>\n",
       "      <td>0.023167</td>\n",
       "    </tr>\n",
       "    <tr>\n",
       "      <th>2007-01-09</th>\n",
       "      <td>-0.021640</td>\n",
       "      <td>-0.010743</td>\n",
       "    </tr>\n",
       "    <tr>\n",
       "      <th>2007-01-10</th>\n",
       "      <td>0.000402</td>\n",
       "      <td>-0.003093</td>\n",
       "    </tr>\n",
       "    <tr>\n",
       "      <th>2007-01-11</th>\n",
       "      <td>0.015737</td>\n",
       "      <td>0.014907</td>\n",
       "    </tr>\n",
       "    <tr>\n",
       "      <th>2007-01-12</th>\n",
       "      <td>0.003931</td>\n",
       "      <td>0.003498</td>\n",
       "    </tr>\n",
       "    <tr>\n",
       "      <th>2007-01-15</th>\n",
       "      <td>0.004828</td>\n",
       "      <td>0.015086</td>\n",
       "    </tr>\n",
       "    <tr>\n",
       "      <th>2007-01-16</th>\n",
       "      <td>0.005578</td>\n",
       "      <td>-0.005855</td>\n",
       "    </tr>\n",
       "    <tr>\n",
       "      <th>2007-01-17</th>\n",
       "      <td>0.007085</td>\n",
       "      <td>0.012124</td>\n",
       "    </tr>\n",
       "    <tr>\n",
       "      <th>2007-01-18</th>\n",
       "      <td>-0.006445</td>\n",
       "      <td>0.014620</td>\n",
       "    </tr>\n",
       "    <tr>\n",
       "      <th>2007-01-19</th>\n",
       "      <td>0.021107</td>\n",
       "      <td>0.012960</td>\n",
       "    </tr>\n",
       "    <tr>\n",
       "      <th>2007-01-22</th>\n",
       "      <td>-0.002533</td>\n",
       "      <td>-0.001447</td>\n",
       "    </tr>\n",
       "    <tr>\n",
       "      <th>2007-01-23</th>\n",
       "      <td>-0.003816</td>\n",
       "      <td>-0.014597</td>\n",
       "    </tr>\n",
       "    <tr>\n",
       "      <th>2007-01-24</th>\n",
       "      <td>0.011276</td>\n",
       "      <td>0.017492</td>\n",
       "    </tr>\n",
       "    <tr>\n",
       "      <th>2007-01-26</th>\n",
       "      <td>0.003895</td>\n",
       "      <td>-0.006524</td>\n",
       "    </tr>\n",
       "    <tr>\n",
       "      <th>2007-01-29</th>\n",
       "      <td>-0.023484</td>\n",
       "      <td>-0.003646</td>\n",
       "    </tr>\n",
       "    <tr>\n",
       "      <th>2007-01-30</th>\n",
       "      <td>0.006788</td>\n",
       "      <td>0.017367</td>\n",
       "    </tr>\n",
       "    <tr>\n",
       "      <th>2007-01-31</th>\n",
       "      <td>0.001524</td>\n",
       "      <td>-0.002870</td>\n",
       "    </tr>\n",
       "    <tr>\n",
       "      <th>2007-02-01</th>\n",
       "      <td>0.000000</td>\n",
       "      <td>-0.005776</td>\n",
       "    </tr>\n",
       "    <tr>\n",
       "      <th>2007-02-02</th>\n",
       "      <td>0.008885</td>\n",
       "      <td>-0.004350</td>\n",
       "    </tr>\n",
       "    <tr>\n",
       "      <th>2007-02-05</th>\n",
       "      <td>0.000503</td>\n",
       "      <td>0.006519</td>\n",
       "    </tr>\n",
       "    <tr>\n",
       "      <th>2007-02-06</th>\n",
       "      <td>-0.006208</td>\n",
       "      <td>-0.002312</td>\n",
       "    </tr>\n",
       "    <tr>\n",
       "      <th>2007-02-07</th>\n",
       "      <td>-0.000506</td>\n",
       "      <td>-0.008578</td>\n",
       "    </tr>\n",
       "    <tr>\n",
       "      <th>2007-02-08</th>\n",
       "      <td>0.006836</td>\n",
       "      <td>-0.010270</td>\n",
       "    </tr>\n",
       "    <tr>\n",
       "      <th>2007-02-09</th>\n",
       "      <td>-0.024267</td>\n",
       "      <td>-0.019511</td>\n",
       "    </tr>\n",
       "    <tr>\n",
       "      <th>2007-02-12</th>\n",
       "      <td>-0.011047</td>\n",
       "      <td>-0.007396</td>\n",
       "    </tr>\n",
       "    <tr>\n",
       "      <th>2007-02-13</th>\n",
       "      <td>-0.001311</td>\n",
       "      <td>0.015036</td>\n",
       "    </tr>\n",
       "    <tr>\n",
       "      <th>...</th>\n",
       "      <td>...</td>\n",
       "      <td>...</td>\n",
       "    </tr>\n",
       "    <tr>\n",
       "      <th>2019-07-29</th>\n",
       "      <td>0.004062</td>\n",
       "      <td>0.008960</td>\n",
       "    </tr>\n",
       "    <tr>\n",
       "      <th>2019-07-30</th>\n",
       "      <td>-0.033808</td>\n",
       "      <td>-0.010160</td>\n",
       "    </tr>\n",
       "    <tr>\n",
       "      <th>2019-07-31</th>\n",
       "      <td>-0.026918</td>\n",
       "      <td>-0.014522</td>\n",
       "    </tr>\n",
       "    <tr>\n",
       "      <th>2019-08-01</th>\n",
       "      <td>0.002153</td>\n",
       "      <td>-0.009595</td>\n",
       "    </tr>\n",
       "    <tr>\n",
       "      <th>2019-08-02</th>\n",
       "      <td>0.001432</td>\n",
       "      <td>0.000205</td>\n",
       "    </tr>\n",
       "    <tr>\n",
       "      <th>2019-08-05</th>\n",
       "      <td>-0.013837</td>\n",
       "      <td>-0.018839</td>\n",
       "    </tr>\n",
       "    <tr>\n",
       "      <th>2019-08-06</th>\n",
       "      <td>0.029742</td>\n",
       "      <td>0.013493</td>\n",
       "    </tr>\n",
       "    <tr>\n",
       "      <th>2019-08-07</th>\n",
       "      <td>0.036247</td>\n",
       "      <td>-0.001031</td>\n",
       "    </tr>\n",
       "    <tr>\n",
       "      <th>2019-08-08</th>\n",
       "      <td>0.005420</td>\n",
       "      <td>0.007198</td>\n",
       "    </tr>\n",
       "    <tr>\n",
       "      <th>2019-08-09</th>\n",
       "      <td>-0.007596</td>\n",
       "      <td>-0.003078</td>\n",
       "    </tr>\n",
       "    <tr>\n",
       "      <th>2019-08-12</th>\n",
       "      <td>-0.042276</td>\n",
       "      <td>-0.034504</td>\n",
       "    </tr>\n",
       "    <tr>\n",
       "      <th>2019-08-13</th>\n",
       "      <td>0.019413</td>\n",
       "      <td>0.011634</td>\n",
       "    </tr>\n",
       "    <tr>\n",
       "      <th>2019-08-14</th>\n",
       "      <td>-0.022258</td>\n",
       "      <td>-0.035534</td>\n",
       "    </tr>\n",
       "    <tr>\n",
       "      <th>2019-08-15</th>\n",
       "      <td>-0.002853</td>\n",
       "      <td>-0.000872</td>\n",
       "    </tr>\n",
       "    <tr>\n",
       "      <th>2019-08-16</th>\n",
       "      <td>-0.011886</td>\n",
       "      <td>-0.002621</td>\n",
       "    </tr>\n",
       "    <tr>\n",
       "      <th>2019-08-19</th>\n",
       "      <td>-0.004376</td>\n",
       "      <td>-0.019877</td>\n",
       "    </tr>\n",
       "    <tr>\n",
       "      <th>2019-08-20</th>\n",
       "      <td>-0.011173</td>\n",
       "      <td>-0.000893</td>\n",
       "    </tr>\n",
       "    <tr>\n",
       "      <th>2019-08-21</th>\n",
       "      <td>0.007658</td>\n",
       "      <td>0.055582</td>\n",
       "    </tr>\n",
       "    <tr>\n",
       "      <th>2019-08-22</th>\n",
       "      <td>-0.015972</td>\n",
       "      <td>-0.005427</td>\n",
       "    </tr>\n",
       "    <tr>\n",
       "      <th>2019-08-23</th>\n",
       "      <td>-0.011696</td>\n",
       "      <td>-0.037122</td>\n",
       "    </tr>\n",
       "    <tr>\n",
       "      <th>2019-08-26</th>\n",
       "      <td>-0.000302</td>\n",
       "      <td>-0.004683</td>\n",
       "    </tr>\n",
       "    <tr>\n",
       "      <th>2019-08-27</th>\n",
       "      <td>0.011700</td>\n",
       "      <td>-0.008079</td>\n",
       "    </tr>\n",
       "    <tr>\n",
       "      <th>2019-08-28</th>\n",
       "      <td>0.011269</td>\n",
       "      <td>-0.008372</td>\n",
       "    </tr>\n",
       "    <tr>\n",
       "      <th>2019-08-29</th>\n",
       "      <td>0.005294</td>\n",
       "      <td>0.024022</td>\n",
       "    </tr>\n",
       "    <tr>\n",
       "      <th>2019-08-30</th>\n",
       "      <td>-0.004410</td>\n",
       "      <td>0.025407</td>\n",
       "    </tr>\n",
       "    <tr>\n",
       "      <th>2019-09-02</th>\n",
       "      <td>-0.012607</td>\n",
       "      <td>-0.012842</td>\n",
       "    </tr>\n",
       "    <tr>\n",
       "      <th>2019-09-03</th>\n",
       "      <td>-0.019289</td>\n",
       "      <td>-0.018796</td>\n",
       "    </tr>\n",
       "    <tr>\n",
       "      <th>2019-09-04</th>\n",
       "      <td>0.006975</td>\n",
       "      <td>0.023385</td>\n",
       "    </tr>\n",
       "    <tr>\n",
       "      <th>2019-09-05</th>\n",
       "      <td>0.028011</td>\n",
       "      <td>0.034294</td>\n",
       "    </tr>\n",
       "    <tr>\n",
       "      <th>2019-09-06</th>\n",
       "      <td>0.032951</td>\n",
       "      <td>0.037022</td>\n",
       "    </tr>\n",
       "  </tbody>\n",
       "</table>\n",
       "<p>3117 rows × 2 columns</p>\n",
       "</div>"
      ],
      "text/plain": [
       "            ITUB4.SA  BBAS3.SA\n",
       "Date                          \n",
       "2007-01-02       NaN       NaN\n",
       "2007-01-03  0.005984 -0.018114\n",
       "2007-01-04 -0.009563  0.035757\n",
       "2007-01-05 -0.039225 -0.044317\n",
       "2007-01-08  0.021375  0.023167\n",
       "2007-01-09 -0.021640 -0.010743\n",
       "2007-01-10  0.000402 -0.003093\n",
       "2007-01-11  0.015737  0.014907\n",
       "2007-01-12  0.003931  0.003498\n",
       "2007-01-15  0.004828  0.015086\n",
       "2007-01-16  0.005578 -0.005855\n",
       "2007-01-17  0.007085  0.012124\n",
       "2007-01-18 -0.006445  0.014620\n",
       "2007-01-19  0.021107  0.012960\n",
       "2007-01-22 -0.002533 -0.001447\n",
       "2007-01-23 -0.003816 -0.014597\n",
       "2007-01-24  0.011276  0.017492\n",
       "2007-01-26  0.003895 -0.006524\n",
       "2007-01-29 -0.023484 -0.003646\n",
       "2007-01-30  0.006788  0.017367\n",
       "2007-01-31  0.001524 -0.002870\n",
       "2007-02-01  0.000000 -0.005776\n",
       "2007-02-02  0.008885 -0.004350\n",
       "2007-02-05  0.000503  0.006519\n",
       "2007-02-06 -0.006208 -0.002312\n",
       "2007-02-07 -0.000506 -0.008578\n",
       "2007-02-08  0.006836 -0.010270\n",
       "2007-02-09 -0.024267 -0.019511\n",
       "2007-02-12 -0.011047 -0.007396\n",
       "2007-02-13 -0.001311  0.015036\n",
       "...              ...       ...\n",
       "2019-07-29  0.004062  0.008960\n",
       "2019-07-30 -0.033808 -0.010160\n",
       "2019-07-31 -0.026918 -0.014522\n",
       "2019-08-01  0.002153 -0.009595\n",
       "2019-08-02  0.001432  0.000205\n",
       "2019-08-05 -0.013837 -0.018839\n",
       "2019-08-06  0.029742  0.013493\n",
       "2019-08-07  0.036247 -0.001031\n",
       "2019-08-08  0.005420  0.007198\n",
       "2019-08-09 -0.007596 -0.003078\n",
       "2019-08-12 -0.042276 -0.034504\n",
       "2019-08-13  0.019413  0.011634\n",
       "2019-08-14 -0.022258 -0.035534\n",
       "2019-08-15 -0.002853 -0.000872\n",
       "2019-08-16 -0.011886 -0.002621\n",
       "2019-08-19 -0.004376 -0.019877\n",
       "2019-08-20 -0.011173 -0.000893\n",
       "2019-08-21  0.007658  0.055582\n",
       "2019-08-22 -0.015972 -0.005427\n",
       "2019-08-23 -0.011696 -0.037122\n",
       "2019-08-26 -0.000302 -0.004683\n",
       "2019-08-27  0.011700 -0.008079\n",
       "2019-08-28  0.011269 -0.008372\n",
       "2019-08-29  0.005294  0.024022\n",
       "2019-08-30 -0.004410  0.025407\n",
       "2019-09-02 -0.012607 -0.012842\n",
       "2019-09-03 -0.019289 -0.018796\n",
       "2019-09-04  0.006975  0.023385\n",
       "2019-09-05  0.028011  0.034294\n",
       "2019-09-06  0.032951  0.037022\n",
       "\n",
       "[3117 rows x 2 columns]"
      ]
     },
     "execution_count": 5,
     "metadata": {},
     "output_type": "execute_result"
    }
   ],
   "source": [
    "sec_returns = np.log(sec_data / sec_data.shift(1)) #primeiro é realizado a taxa log pois serão analisados isoladamente\n",
    "\n",
    "sec_returns"
   ]
  },
  {
   "cell_type": "markdown",
   "metadata": {},
   "source": [
    "# ITAÚ - ITUB4.SA"
   ]
  },
  {
   "cell_type": "code",
   "execution_count": 6,
   "metadata": {},
   "outputs": [
    {
     "data": {
      "text/plain": [
       "0.3548599312197465"
      ]
     },
     "execution_count": 6,
     "metadata": {},
     "output_type": "execute_result"
    }
   ],
   "source": [
    "sec_returns['ITUB4.SA'].mean() #retorno médio diário\n",
    "sec_returns['ITUB4.SA'].mean() * 250 #número de dias úteis de negociação em um ano. Irá retornar a taxa anual de retorno\n",
    "sec_returns['ITUB4.SA'].std() #já realiza o desvio padrão\n",
    "sec_returns['ITUB4.SA'].std() * 250 ** 0.5 #retorna os dados anuais e retira a raiz quadrada da variança"
   ]
  },
  {
   "cell_type": "markdown",
   "metadata": {},
   "source": [
    "# BANCO DO BRASIL - BBAS3.SA"
   ]
  },
  {
   "cell_type": "code",
   "execution_count": 8,
   "metadata": {},
   "outputs": [
    {
     "data": {
      "text/plain": [
       "0.4299060790197626"
      ]
     },
     "execution_count": 8,
     "metadata": {},
     "output_type": "execute_result"
    }
   ],
   "source": [
    "sec_returns['BBAS3.SA'].mean() #retorno médio diário\n",
    "sec_returns['BBAS3.SA'].mean() * 250 #número de dias úteis de negociação em um ano. Irá retornar a taxa anual de retorno\n",
    "sec_returns['BBAS3.SA'].std() #já realiza o desvio padrão\n",
    "sec_returns['BBAS3.SA'].std() * 250 ** 0.5 #torna os dados anuais e retira a raiz quadrada da variança"
   ]
  },
  {
   "cell_type": "markdown",
   "metadata": {},
   "source": [
    "# Média da taxa de retornos"
   ]
  },
  {
   "cell_type": "code",
   "execution_count": 9,
   "metadata": {},
   "outputs": [
    {
     "data": {
      "text/plain": [
       "ITUB4.SA    0.102753\n",
       "BBAS3.SA    0.106764\n",
       "dtype: float64"
      ]
     },
     "execution_count": 9,
     "metadata": {},
     "output_type": "execute_result"
    }
   ],
   "source": [
    "sec_returns[['ITUB4.SA', 'BBAS3.SA']].mean() * 250"
   ]
  },
  {
   "cell_type": "markdown",
   "metadata": {},
   "source": [
    "# Variância"
   ]
  },
  {
   "cell_type": "markdown",
   "metadata": {},
   "source": [
    "\\begin{equation*}\n",
    "S^2=\\sum \\frac{(x_{i}-\\bar{x})^2}{n-1} \n",
    "\\end{equation*}"
   ]
  },
  {
   "cell_type": "markdown",
   "metadata": {},
   "source": [
    "# Desvio Padrão"
   ]
  },
  {
   "cell_type": "markdown",
   "metadata": {},
   "source": [
    "\\begin{equation*}\n",
    "\\sigma =\\sqrt {S^2}\n",
    "\\end{equation*}"
   ]
  },
  {
   "cell_type": "code",
   "execution_count": 11,
   "metadata": {},
   "outputs": [
    {
     "data": {
      "text/plain": [
       "ITUB4.SA    0.354860\n",
       "BBAS3.SA    0.429906\n",
       "dtype: float64"
      ]
     },
     "execution_count": 11,
     "metadata": {},
     "output_type": "execute_result"
    }
   ],
   "source": [
    "sec_returns[['ITUB4.SA', 'BBAS3.SA']].std() * 250 ** 0.5"
   ]
  },
  {
   "cell_type": "code",
   "execution_count": 15,
   "metadata": {},
   "outputs": [
    {
     "data": {
      "text/plain": [
       "ITUB4.SA     9.465948\n",
       "BBAS3.SA    12.629530\n",
       "Name: 2007-01-02 00:00:00, dtype: float64"
      ]
     },
     "execution_count": 15,
     "metadata": {},
     "output_type": "execute_result"
    }
   ],
   "source": [
    "sec_data.iloc[0]"
   ]
  },
  {
   "cell_type": "code",
   "execution_count": 16,
   "metadata": {},
   "outputs": [
    {
     "data": {
      "image/png": "[encoded data removed]",
      "text/plain": [
       "<Figure size 1152x432 with 1 Axes>"
      ]
     },
     "metadata": {
      "needs_background": "light"
     },
     "output_type": "display_data"
    }
   ],
   "source": [
    "(sec_data / sec_data.iloc[0] * 100).plot(figsize = (16,6)); #gráfico normalizado "
   ]
  },
  {
   "cell_type": "markdown",
   "metadata": {},
   "source": [
    "# Covariância e Correlação"
   ]
  },
  {
   "cell_type": "code",
   "execution_count": 9,
   "metadata": {},
   "outputs": [
    {
     "data": {
      "text/plain": [
       "0.0005036750256885427"
      ]
     },
     "execution_count": 9,
     "metadata": {},
     "output_type": "execute_result"
    }
   ],
   "source": [
    "ITUB_var = sec_returns['ITUB4.SA'].var() #pandas.DataFrame.var() calcula a variância \n",
    "ITUB_var"
   ]
  },
  {
   "cell_type": "code",
   "execution_count": 10,
   "metadata": {},
   "outputs": [
    {
     "data": {
      "text/plain": [
       "0.0007392424852237165"
      ]
     },
     "execution_count": 10,
     "metadata": {},
     "output_type": "execute_result"
    }
   ],
   "source": [
    "BBAS3_var = sec_returns['BBAS3.SA'].var()\n",
    "BBAS3_var"
   ]
  },
  {
   "cell_type": "code",
   "execution_count": 12,
   "metadata": {},
   "outputs": [
    {
     "data": {
      "text/plain": [
       "0.12591875642213568"
      ]
     },
     "execution_count": 12,
     "metadata": {},
     "output_type": "execute_result"
    }
   ],
   "source": [
    "ITUB_var_a = sec_returns['ITUB4.SA'].var() * 250\n",
    "ITUB_var_a"
   ]
  },
  {
   "cell_type": "code",
   "execution_count": 11,
   "metadata": {},
   "outputs": [
    {
     "data": {
      "text/plain": [
       "0.18481062130592912"
      ]
     },
     "execution_count": 11,
     "metadata": {},
     "output_type": "execute_result"
    }
   ],
   "source": [
    "BBAS3_var_a = sec_returns['BBAS3.SA'].var() * 250 #anual\n",
    "BBAS3_var_a"
   ]
  },
  {
   "cell_type": "code",
   "execution_count": 13,
   "metadata": {},
   "outputs": [
    {
     "data": {
      "text/html": [
       "<div>\n",
       "<style scoped>\n",
       "    .dataframe tbody tr th:only-of-type {\n",
       "        vertical-align: middle;\n",
       "    }\n",
       "\n",
       "    .dataframe tbody tr th {\n",
       "        vertical-align: top;\n",
       "    }\n",
       "\n",
       "    .dataframe thead th {\n",
       "        text-align: right;\n",
       "    }\n",
       "</style>\n",
       "<table border=\"1\" class=\"dataframe\">\n",
       "  <thead>\n",
       "    <tr style=\"text-align: right;\">\n",
       "      <th></th>\n",
       "      <th>ITUB4.SA</th>\n",
       "      <th>BBAS3.SA</th>\n",
       "    </tr>\n",
       "  </thead>\n",
       "  <tbody>\n",
       "    <tr>\n",
       "      <th>ITUB4.SA</th>\n",
       "      <td>0.000504</td>\n",
       "      <td>0.000440</td>\n",
       "    </tr>\n",
       "    <tr>\n",
       "      <th>BBAS3.SA</th>\n",
       "      <td>0.000440</td>\n",
       "      <td>0.000739</td>\n",
       "    </tr>\n",
       "  </tbody>\n",
       "</table>\n",
       "</div>"
      ],
      "text/plain": [
       "          ITUB4.SA  BBAS3.SA\n",
       "ITUB4.SA  0.000504  0.000440\n",
       "BBAS3.SA  0.000440  0.000739"
      ]
     },
     "execution_count": 13,
     "metadata": {},
     "output_type": "execute_result"
    }
   ],
   "source": [
    "cov_matrix = sec_returns.cov()\n",
    "cov_matrix"
   ]
  },
  {
   "cell_type": "code",
   "execution_count": 15,
   "metadata": {},
   "outputs": [
    {
     "data": {
      "text/html": [
       "<div>\n",
       "<style scoped>\n",
       "    .dataframe tbody tr th:only-of-type {\n",
       "        vertical-align: middle;\n",
       "    }\n",
       "\n",
       "    .dataframe tbody tr th {\n",
       "        vertical-align: top;\n",
       "    }\n",
       "\n",
       "    .dataframe thead th {\n",
       "        text-align: right;\n",
       "    }\n",
       "</style>\n",
       "<table border=\"1\" class=\"dataframe\">\n",
       "  <thead>\n",
       "    <tr style=\"text-align: right;\">\n",
       "      <th></th>\n",
       "      <th>ITUB4.SA</th>\n",
       "      <th>BBAS3.SA</th>\n",
       "    </tr>\n",
       "  </thead>\n",
       "  <tbody>\n",
       "    <tr>\n",
       "      <th>ITUB4.SA</th>\n",
       "      <td>0.125919</td>\n",
       "      <td>0.110070</td>\n",
       "    </tr>\n",
       "    <tr>\n",
       "      <th>BBAS3.SA</th>\n",
       "      <td>0.110070</td>\n",
       "      <td>0.184811</td>\n",
       "    </tr>\n",
       "  </tbody>\n",
       "</table>\n",
       "</div>"
      ],
      "text/plain": [
       "          ITUB4.SA  BBAS3.SA\n",
       "ITUB4.SA  0.125919  0.110070\n",
       "BBAS3.SA  0.110070  0.184811"
      ]
     },
     "execution_count": 15,
     "metadata": {},
     "output_type": "execute_result"
    }
   ],
   "source": [
    "cov_matrix_a = sec_returns.cov() * 250 #matriz de covariância anual. \n",
    "cov_matrix_a"
   ]
  },
  {
   "cell_type": "code",
   "execution_count": 16,
   "metadata": {},
   "outputs": [],
   "source": [
    "#A Célula esquerda superior mostra a variância da ITUB\n",
    "#A celula inferior direita a variância da BBAS \n",
    "#As duas restantes mostram o mesmo valor, pois a covariância entre a BBAS E ITUB E e a covariância entre ITUB EBBAS\n",
    "#é a mesma"
   ]
  },
  {
   "cell_type": "code",
   "execution_count": 17,
   "metadata": {},
   "outputs": [],
   "source": [
    "#Corelação"
   ]
  },
  {
   "cell_type": "code",
   "execution_count": 18,
   "metadata": {},
   "outputs": [
    {
     "data": {
      "text/html": [
       "<div>\n",
       "<style scoped>\n",
       "    .dataframe tbody tr th:only-of-type {\n",
       "        vertical-align: middle;\n",
       "    }\n",
       "\n",
       "    .dataframe tbody tr th {\n",
       "        vertical-align: top;\n",
       "    }\n",
       "\n",
       "    .dataframe thead th {\n",
       "        text-align: right;\n",
       "    }\n",
       "</style>\n",
       "<table border=\"1\" class=\"dataframe\">\n",
       "  <thead>\n",
       "    <tr style=\"text-align: right;\">\n",
       "      <th></th>\n",
       "      <th>ITUB4.SA</th>\n",
       "      <th>BBAS3.SA</th>\n",
       "    </tr>\n",
       "  </thead>\n",
       "  <tbody>\n",
       "    <tr>\n",
       "      <th>ITUB4.SA</th>\n",
       "      <td>1.000000</td>\n",
       "      <td>0.720868</td>\n",
       "    </tr>\n",
       "    <tr>\n",
       "      <th>BBAS3.SA</th>\n",
       "      <td>0.720868</td>\n",
       "      <td>1.000000</td>\n",
       "    </tr>\n",
       "  </tbody>\n",
       "</table>\n",
       "</div>"
      ],
      "text/plain": [
       "          ITUB4.SA  BBAS3.SA\n",
       "ITUB4.SA  1.000000  0.720868\n",
       "BBAS3.SA  0.720868  1.000000"
      ]
     },
     "execution_count": 18,
     "metadata": {},
     "output_type": "execute_result"
    }
   ],
   "source": [
    "corr_matrix = sec_returns.corr()\n",
    "corr_matrix"
   ]
  },
  {
   "cell_type": "code",
   "execution_count": 19,
   "metadata": {},
   "outputs": [],
   "source": [
    "#diagonal principal = 1. Porque as variações da ITUB E BBAS foram dividas pelos mesmos valores. E faz sentido que\n",
    "#movimento de uma ação esteja perfeitamente correlacionada com ela mesma\n",
    "\n",
    "#formula da correlação\n",
    "#cov(X,X) / s(X) * s(X) #o produto do desvio padrão de x e o desvio padrão de X é a VAR(x)\n",
    "\n",
    "#as outras duas células também tem o mesmo valor, dizendo assim que o retorno das duas ações tem baixa correlação. NÃO É \n",
    "#CORRELAÇÃO DO PREÇO DAS DUAS AÇÕES!! \n",
    "\n",
    "#correlação(preços) vs corr(retornos) mostram valores diferentes, geralmente têm implicações diferentes.\n",
    "#a correlação(retornos) reflete a dependência entre os preços em diferentes momentos e se concentra nos retornos do seu portfólio\n",
    "#a correlação(preços) foca nos níveis de preço das ações \n",
    "\n",
    "# A tabela da correlação não precisa ser anualizada, pois não mostra retornos médios diários ela mostra a relação\n",
    "#que existe entre duas váriaveis. Portanto não é necessário multiplicar por 250. "
   ]
  },
  {
   "cell_type": "markdown",
   "metadata": {},
   "source": [
    "# Cálculando o Risco de um Portfólio"
   ]
  },
  {
   "cell_type": "code",
   "execution_count": 20,
   "metadata": {},
   "outputs": [],
   "source": [
    "#Exemplo 1: Carteira ponderada igualmente\n",
    "weights = np.array([0.5, 0.5])"
   ]
  },
  {
   "cell_type": "code",
   "execution_count": 25,
   "metadata": {},
   "outputs": [],
   "source": [
    "#variância do portfólio\n",
    "#(ab)² = a²b²\n",
    "#(a.B)² = a^T.B.a #versão transposta dos pesos do vetor deve ser multiplicado pela matriz de covariância normalizada em seguida\n",
    "#multiplicado pelo vetor de pesos normal\n",
    "#numpy.dot() calcula o produto da multiplicação de duas arrays\n",
    "#weights.T = vetor de pesos transposto"
   ]
  },
  {
   "cell_type": "code",
   "execution_count": 28,
   "metadata": {},
   "outputs": [
    {
     "data": {
      "text/plain": [
       "0.1327172436557354"
      ]
     },
     "execution_count": 28,
     "metadata": {},
     "output_type": "execute_result"
    }
   ],
   "source": [
    "pfolio_var = np.dot(weights.T, np.dot(sec_returns.cov() * 250, weights)) #variância da carteira\n",
    "pfolio_var"
   ]
  },
  {
   "cell_type": "code",
   "execution_count": 29,
   "metadata": {},
   "outputs": [
    {
     "data": {
      "text/plain": [
       "0.3643037793596649"
      ]
     },
     "execution_count": 29,
     "metadata": {},
     "output_type": "execute_result"
    }
   ],
   "source": [
    "pfolio_vol = (np.dot(weights.T, np.dot(sec_returns.cov() * 250, weights))) ** 0.5 #volatidade da carteira \n",
    "pfolio_vol"
   ]
  },
  {
   "cell_type": "code",
   "execution_count": 31,
   "metadata": {},
   "outputs": [
    {
     "name": "stdout",
     "output_type": "stream",
     "text": [
      "36.43%\n"
     ]
    }
   ],
   "source": [
    "print(str(round(pfolio_vol, 5) * 100) + '%')"
   ]
  },
  {
   "cell_type": "markdown",
   "metadata": {},
   "source": [
    "# Calculando risco diversificado e não diversificado em um portfólio de investimentos"
   ]
  },
  {
   "cell_type": "code",
   "execution_count": 32,
   "metadata": {},
   "outputs": [],
   "source": [
    "weights = np.array([0.5, 0.5])"
   ]
  },
  {
   "cell_type": "code",
   "execution_count": 33,
   "metadata": {},
   "outputs": [
    {
     "data": {
      "text/plain": [
       "0.5"
      ]
     },
     "execution_count": 33,
     "metadata": {},
     "output_type": "execute_result"
    }
   ],
   "source": [
    "weights[0]"
   ]
  },
  {
   "cell_type": "code",
   "execution_count": 34,
   "metadata": {},
   "outputs": [
    {
     "data": {
      "text/plain": [
       "0.5"
      ]
     },
     "execution_count": 34,
     "metadata": {},
     "output_type": "execute_result"
    }
   ],
   "source": [
    "weights[1]"
   ]
  },
  {
   "cell_type": "code",
   "execution_count": 36,
   "metadata": {},
   "outputs": [],
   "source": [
    "#Risco diversificável\n",
    "#risco diversificável = variância do portfólio - variância anual ponderada de cada ação\n"
   ]
  },
  {
   "cell_type": "code",
   "execution_count": 44,
   "metadata": {},
   "outputs": [
    {
     "data": {
      "text/plain": [
       "0.12591875642213568"
      ]
     },
     "execution_count": 44,
     "metadata": {},
     "output_type": "execute_result"
    }
   ],
   "source": [
    "ITUB_var_a = sec_returns['ITUB4.SA'].var() * 250\n",
    "ITUB_var_a"
   ]
  },
  {
   "cell_type": "code",
   "execution_count": 45,
   "metadata": {},
   "outputs": [
    {
     "data": {
      "text/plain": [
       "0.18481062130592912"
      ]
     },
     "execution_count": 45,
     "metadata": {},
     "output_type": "execute_result"
    }
   ],
   "source": [
    "BBAS3_var_a = sec_returns['BBAS3.SA'].var() * 250\n",
    "BBAS3_var_a"
   ]
  },
  {
   "cell_type": "code",
   "execution_count": 46,
   "metadata": {},
   "outputs": [
    {
     "data": {
      "text/plain": [
       "0.055034899223719194"
      ]
     },
     "execution_count": 46,
     "metadata": {},
     "output_type": "execute_result"
    }
   ],
   "source": [
    "dr = pfolio_var - (weights[0] ** 2 * ITUB_var_a) - (weights[1] ** 2 * BBAS3_var_a)\n",
    "dr"
   ]
  },
  {
   "cell_type": "code",
   "execution_count": 47,
   "metadata": {},
   "outputs": [
    {
     "name": "stdout",
     "output_type": "stream",
     "text": [
      "5.503%\n"
     ]
    }
   ],
   "source": [
    "print(str(round(dr*100, 3)) + '%') "
   ]
  },
  {
   "cell_type": "code",
   "execution_count": 49,
   "metadata": {},
   "outputs": [],
   "source": [
    "#Risco sistemático"
   ]
  },
  {
   "cell_type": "code",
   "execution_count": 51,
   "metadata": {},
   "outputs": [
    {
     "data": {
      "text/plain": [
       "0.0776823444320162"
      ]
     },
     "execution_count": 51,
     "metadata": {},
     "output_type": "execute_result"
    }
   ],
   "source": [
    "n_dr_1 = pfolio_var - dr\n",
    "n_dr_1"
   ]
  },
  {
   "cell_type": "code",
   "execution_count": 53,
   "metadata": {},
   "outputs": [
    {
     "data": {
      "text/plain": [
       "0.0776823444320162"
      ]
     },
     "execution_count": 53,
     "metadata": {},
     "output_type": "execute_result"
    }
   ],
   "source": [
    "n_dr_2 = (weights[0] ** 2 * ITUB_var_a) + (weights[1] ** 2 * BBAS3_var_a)\n",
    "n_dr_2"
   ]
  },
  {
   "cell_type": "code",
   "execution_count": 54,
   "metadata": {},
   "outputs": [
    {
     "data": {
      "text/plain": [
       "True"
      ]
     },
     "execution_count": 54,
     "metadata": {},
     "output_type": "execute_result"
    }
   ],
   "source": [
    "n_dr_1 == n_dr_2"
   ]
  },
  {
   "cell_type": "code",
   "execution_count": null,
   "metadata": {},
   "outputs": [],
   "source": []
  }
 ],
 "metadata": {
  "kernelspec": {
   "display_name": "Python 3",
   "language": "python",
   "name": "python3"
  },
  "language_info": {
   "codemirror_mode": {
    "name": "ipython",
    "version": 3
   },
   "file_extension": ".py",
   "mimetype": "text/x-python",
   "name": "python",
   "nbconvert_exporter": "python",
   "pygments_lexer": "ipython3",
   "version": "3.7.3"
  }
 },
 "nbformat": 4,
 "nbformat_minor": 2
}
